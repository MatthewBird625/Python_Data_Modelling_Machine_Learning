{
 "cells": [
  {
   "cell_type": "markdown",
   "metadata": {},
   "source": [
    "# task 1: data import"
   ]
  },
  {
   "cell_type": "code",
   "execution_count": 1,
   "metadata": {},
   "outputs": [],
   "source": [
    "import pandas as pd\n",
    "import numpy as np\n",
    "import math\n",
    "import matplotlib.pyplot as plt\n",
    "import copy\n",
    "import seaborn as sns\n"
   ]
  },
  {
   "cell_type": "code",
   "execution_count": 2,
   "metadata": {},
   "outputs": [],
   "source": [
    "#importing csv file and label headings\n",
    "heart_data_csv = \"heart_failure_clinical_records_dataset.csv\"\n",
    "heart_data = pd.read_csv(heart_data_csv,decimal = ',')"
   ]
  },
  {
   "cell_type": "code",
   "execution_count": 3,
   "metadata": {},
   "outputs": [
    {
     "data": {
      "text/plain": [
       "Index(['age', 'anaemia', 'creatinine_phosphokinase', 'diabetes',\n",
       "       'ejection_fraction', 'high_blood_pressure', 'platelets',\n",
       "       'serum_creatinine', 'serum_sodium', 'sex', 'smoking', 'time',\n",
       "       'DEATH_EVENT'],\n",
       "      dtype='object')"
      ]
     },
     "execution_count": 3,
     "metadata": {},
     "output_type": "execute_result"
    }
   ],
   "source": [
    "#check labeling of columns\n",
    "heart_data.columns"
   ]
  },
  {
   "cell_type": "code",
   "execution_count": 4,
   "metadata": {},
   "outputs": [
    {
     "data": {
      "text/plain": [
       "(299, 13)"
      ]
     },
     "execution_count": 4,
     "metadata": {},
     "output_type": "execute_result"
    }
   ],
   "source": [
    "#check size of imported data matches the size of our csv file\n",
    "heart_data.shape"
   ]
  },
  {
   "cell_type": "code",
   "execution_count": 5,
   "metadata": {},
   "outputs": [
    {
     "data": {
      "text/html": [
       "<div>\n",
       "<style scoped>\n",
       "    .dataframe tbody tr th:only-of-type {\n",
       "        vertical-align: middle;\n",
       "    }\n",
       "\n",
       "    .dataframe tbody tr th {\n",
       "        vertical-align: top;\n",
       "    }\n",
       "\n",
       "    .dataframe thead th {\n",
       "        text-align: right;\n",
       "    }\n",
       "</style>\n",
       "<table border=\"1\" class=\"dataframe\">\n",
       "  <thead>\n",
       "    <tr style=\"text-align: right;\">\n",
       "      <th></th>\n",
       "      <th>age</th>\n",
       "      <th>anaemia</th>\n",
       "      <th>creatinine_phosphokinase</th>\n",
       "      <th>diabetes</th>\n",
       "      <th>ejection_fraction</th>\n",
       "      <th>high_blood_pressure</th>\n",
       "      <th>platelets</th>\n",
       "      <th>serum_creatinine</th>\n",
       "      <th>serum_sodium</th>\n",
       "      <th>sex</th>\n",
       "      <th>smoking</th>\n",
       "      <th>time</th>\n",
       "      <th>DEATH_EVENT</th>\n",
       "    </tr>\n",
       "  </thead>\n",
       "  <tbody>\n",
       "    <tr>\n",
       "      <th>0</th>\n",
       "      <td>75</td>\n",
       "      <td>0</td>\n",
       "      <td>582</td>\n",
       "      <td>0</td>\n",
       "      <td>20</td>\n",
       "      <td>1</td>\n",
       "      <td>265000</td>\n",
       "      <td>1.9</td>\n",
       "      <td>130</td>\n",
       "      <td>1</td>\n",
       "      <td>0</td>\n",
       "      <td>4</td>\n",
       "      <td>1</td>\n",
       "    </tr>\n",
       "    <tr>\n",
       "      <th>1</th>\n",
       "      <td>55</td>\n",
       "      <td>0</td>\n",
       "      <td>7861</td>\n",
       "      <td>0</td>\n",
       "      <td>38</td>\n",
       "      <td>0</td>\n",
       "      <td>263358.03</td>\n",
       "      <td>1.1</td>\n",
       "      <td>136</td>\n",
       "      <td>1</td>\n",
       "      <td>0</td>\n",
       "      <td>6</td>\n",
       "      <td>1</td>\n",
       "    </tr>\n",
       "    <tr>\n",
       "      <th>2</th>\n",
       "      <td>65</td>\n",
       "      <td>0</td>\n",
       "      <td>146</td>\n",
       "      <td>0</td>\n",
       "      <td>20</td>\n",
       "      <td>0</td>\n",
       "      <td>162000</td>\n",
       "      <td>1.3</td>\n",
       "      <td>129</td>\n",
       "      <td>1</td>\n",
       "      <td>1</td>\n",
       "      <td>7</td>\n",
       "      <td>1</td>\n",
       "    </tr>\n",
       "    <tr>\n",
       "      <th>3</th>\n",
       "      <td>50</td>\n",
       "      <td>1</td>\n",
       "      <td>111</td>\n",
       "      <td>0</td>\n",
       "      <td>20</td>\n",
       "      <td>0</td>\n",
       "      <td>210000</td>\n",
       "      <td>1.9</td>\n",
       "      <td>137</td>\n",
       "      <td>1</td>\n",
       "      <td>0</td>\n",
       "      <td>7</td>\n",
       "      <td>1</td>\n",
       "    </tr>\n",
       "    <tr>\n",
       "      <th>4</th>\n",
       "      <td>65</td>\n",
       "      <td>1</td>\n",
       "      <td>160</td>\n",
       "      <td>1</td>\n",
       "      <td>20</td>\n",
       "      <td>0</td>\n",
       "      <td>327000</td>\n",
       "      <td>2.7</td>\n",
       "      <td>116</td>\n",
       "      <td>0</td>\n",
       "      <td>0</td>\n",
       "      <td>8</td>\n",
       "      <td>1</td>\n",
       "    </tr>\n",
       "  </tbody>\n",
       "</table>\n",
       "</div>"
      ],
      "text/plain": [
       "  age  anaemia  creatinine_phosphokinase  diabetes  ejection_fraction  \\\n",
       "0  75        0                       582         0                 20   \n",
       "1  55        0                      7861         0                 38   \n",
       "2  65        0                       146         0                 20   \n",
       "3  50        1                       111         0                 20   \n",
       "4  65        1                       160         1                 20   \n",
       "\n",
       "   high_blood_pressure  platelets serum_creatinine  serum_sodium  sex  \\\n",
       "0                    1     265000              1.9           130    1   \n",
       "1                    0  263358.03              1.1           136    1   \n",
       "2                    0     162000              1.3           129    1   \n",
       "3                    0     210000              1.9           137    1   \n",
       "4                    0     327000              2.7           116    0   \n",
       "\n",
       "   smoking  time  DEATH_EVENT  \n",
       "0        0     4            1  \n",
       "1        0     6            1  \n",
       "2        1     7            1  \n",
       "3        0     7            1  \n",
       "4        0     8            1  "
      ]
     },
     "execution_count": 5,
     "metadata": {},
     "output_type": "execute_result"
    }
   ],
   "source": [
    "#check headings line up with column data\n",
    "heart_data.head(5)"
   ]
  },
  {
   "cell_type": "code",
   "execution_count": 6,
   "metadata": {},
   "outputs": [
    {
     "data": {
      "text/plain": [
       "age                         object\n",
       "anaemia                      int64\n",
       "creatinine_phosphokinase     int64\n",
       "diabetes                     int64\n",
       "ejection_fraction            int64\n",
       "high_blood_pressure          int64\n",
       "platelets                   object\n",
       "serum_creatinine            object\n",
       "serum_sodium                 int64\n",
       "sex                          int64\n",
       "smoking                      int64\n",
       "time                         int64\n",
       "DEATH_EVENT                  int64\n",
       "dtype: object"
      ]
     },
     "execution_count": 6,
     "metadata": {},
     "output_type": "execute_result"
    }
   ],
   "source": [
    "#check the data types of columns match what type of data they represent\n",
    "heart_data.dtypes\n",
    "#we can see age, serum_creatinine and serum_sodium are objects, these can be cast to float and int respectively"
   ]
  },
  {
   "cell_type": "code",
   "execution_count": 7,
   "metadata": {},
   "outputs": [
    {
     "data": {
      "text/plain": [
       "age                         False\n",
       "anaemia                     False\n",
       "creatinine_phosphokinase    False\n",
       "diabetes                    False\n",
       "ejection_fraction           False\n",
       "high_blood_pressure         False\n",
       "platelets                   False\n",
       "serum_creatinine            False\n",
       "serum_sodium                False\n",
       "sex                         False\n",
       "smoking                     False\n",
       "time                        False\n",
       "DEATH_EVENT                 False\n",
       "dtype: bool"
      ]
     },
     "execution_count": 7,
     "metadata": {},
     "output_type": "execute_result"
    }
   ],
   "source": [
    "#check if any is null before we perform corrections on columns\n",
    "heart_data.isnull().any()"
   ]
  },
  {
   "cell_type": "code",
   "execution_count": 8,
   "metadata": {},
   "outputs": [],
   "source": [
    "# we can see on https://archive.ics.uci.edu/ml/datasets/Heart+failure+clinical+records\n",
    "#that attribute age is expressed in years. we have some float values. we will round these to ints\n",
    "heart_data['age'] = heart_data.age.astype(float).astype(int)\n"
   ]
  },
  {
   "cell_type": "code",
   "execution_count": 9,
   "metadata": {},
   "outputs": [],
   "source": [
    "#we will replace the 1 and 0 in sex with M or F. This will be easier to read later in our graphs\n",
    "heart_data['sex'].replace(0, 'F',inplace=True)\n",
    "heart_data['sex'].replace(1, 'M',inplace=True)"
   ]
  },
  {
   "cell_type": "code",
   "execution_count": 10,
   "metadata": {},
   "outputs": [],
   "source": [
    "#cast to float\n",
    "heart_data['serum_creatinine'] = heart_data.serum_creatinine.astype(float)"
   ]
  },
  {
   "cell_type": "code",
   "execution_count": 11,
   "metadata": {},
   "outputs": [],
   "source": [
    "#cast to int\n",
    "heart_data['serum_sodium'] = heart_data.serum_sodium.astype(int)"
   ]
  },
  {
   "cell_type": "code",
   "execution_count": 12,
   "metadata": {},
   "outputs": [],
   "source": [
    "#we can see some float objects with value 263358.03 given the range of numbers it is a safe \n",
    "#assumption that this bit of float will have no effect on data. so we will cast to int\n",
    "heart_data['platelets'] = heart_data.platelets.astype(float).astype(int)"
   ]
  },
  {
   "cell_type": "code",
   "execution_count": 13,
   "metadata": {},
   "outputs": [
    {
     "data": {
      "text/plain": [
       "age                           int32\n",
       "anaemia                       int64\n",
       "creatinine_phosphokinase      int64\n",
       "diabetes                      int64\n",
       "ejection_fraction             int64\n",
       "high_blood_pressure           int64\n",
       "platelets                     int32\n",
       "serum_creatinine            float64\n",
       "serum_sodium                  int32\n",
       "sex                          object\n",
       "smoking                       int64\n",
       "time                          int64\n",
       "DEATH_EVENT                   int64\n",
       "dtype: object"
      ]
     },
     "execution_count": 13,
     "metadata": {},
     "output_type": "execute_result"
    }
   ],
   "source": [
    "#our data now has no nulls and correct data type. \n",
    "heart_data.dtypes"
   ]
  },
  {
   "cell_type": "code",
   "execution_count": 14,
   "metadata": {
    "scrolled": true
   },
   "outputs": [
    {
     "data": {
      "text/plain": [
       "array([75, 55, 65, 50, 90, 60, 80, 62, 45, 49, 82, 87, 70, 48, 68, 53, 95,\n",
       "       58, 94, 85, 69, 72, 51, 57, 42, 41, 67, 79, 59, 44, 63, 86, 66, 43,\n",
       "       46, 61, 81, 52, 64, 40, 73, 77, 78, 54, 47, 56])"
      ]
     },
     "execution_count": 14,
     "metadata": {},
     "output_type": "execute_result"
    }
   ],
   "source": [
    "# we will now check the uniqueness of each column to check for anomilies\n",
    "heart_data.age.unique()"
   ]
  },
  {
   "cell_type": "code",
   "execution_count": 15,
   "metadata": {},
   "outputs": [
    {
     "data": {
      "text/plain": [
       "array([0, 1], dtype=int64)"
      ]
     },
     "execution_count": 15,
     "metadata": {},
     "output_type": "execute_result"
    }
   ],
   "source": [
    "heart_data.anaemia.unique()"
   ]
  },
  {
   "cell_type": "code",
   "execution_count": 16,
   "metadata": {},
   "outputs": [
    {
     "data": {
      "text/plain": [
       "array([ 582, 7861,  146,  111,  160,   47,  246,  315,  157,  123,   81,\n",
       "        231,  981,  168,   80,  379,  149,  125,   52,  128,  220,   63,\n",
       "        148,  112,  122,   60,   70,   23,  249,  159,   94,  855, 2656,\n",
       "        235,  124,  571,  127,  588, 1380,  553,  129,  577,   91, 3964,\n",
       "         69,  260,  371,   75,  607,  789,  364, 7702,  318,  109,   68,\n",
       "        250,  110,  161,  113, 5882,  224,   92,  102,  203,  336,   76,\n",
       "         55,  280,   78,   84,  115,   66,  897,  154,  144,  133,  514,\n",
       "         59,  156,   61,  305,  898, 5209,   53,  328,  748, 1876,  936,\n",
       "        292,  369,  143,  754,  400,   96,  737,  358,  200,  248,  270,\n",
       "       1808, 1082,  719,  193, 4540,  646,  281, 1548,  805,  291,  482,\n",
       "        943,  185,  132, 1610, 2261,  233,   30, 1846,  335,   58,  910,\n",
       "         72,  130, 2334, 2442,  776,  196,  835, 3966,  171,  198,   95,\n",
       "       1419,  478,  176,  395,   99,  145,  104, 1896,  151,  244,   62,\n",
       "        121,  418,  167, 1211, 1767,  308,   97,   64,  101,  212, 2281,\n",
       "        972,  131,  135, 1202,  427, 1021,  118,   86,  675,   57, 2794,\n",
       "         56,  211,  166,   93,  707,  119,  232,  720,  180,   90, 1185,\n",
       "       2017,  624,  207, 2522,  572,  245,   88,  446,  191,  326,  655,\n",
       "        258,  298, 1199,  213,  257,  618, 1051, 2695, 1688,   54,  170,\n",
       "        253,  892,  337,  615,  320,  190,  103, 1820, 2060, 2413],\n",
       "      dtype=int64)"
      ]
     },
     "execution_count": 16,
     "metadata": {},
     "output_type": "execute_result"
    }
   ],
   "source": [
    "heart_data.creatinine_phosphokinase.unique()"
   ]
  },
  {
   "cell_type": "code",
   "execution_count": 17,
   "metadata": {},
   "outputs": [
    {
     "data": {
      "text/plain": [
       "array([0, 1], dtype=int64)"
      ]
     },
     "execution_count": 17,
     "metadata": {},
     "output_type": "execute_result"
    }
   ],
   "source": [
    "heart_data.diabetes.unique()"
   ]
  },
  {
   "cell_type": "code",
   "execution_count": 18,
   "metadata": {},
   "outputs": [
    {
     "data": {
      "text/plain": [
       "array([20, 38, 40, 15, 60, 65, 35, 25, 30, 50, 14, 55, 45, 62, 80, 17, 70],\n",
       "      dtype=int64)"
      ]
     },
     "execution_count": 18,
     "metadata": {},
     "output_type": "execute_result"
    }
   ],
   "source": [
    "heart_data.ejection_fraction.unique()"
   ]
  },
  {
   "cell_type": "code",
   "execution_count": 19,
   "metadata": {},
   "outputs": [
    {
     "data": {
      "text/plain": [
       "array([1, 0], dtype=int64)"
      ]
     },
     "execution_count": 19,
     "metadata": {},
     "output_type": "execute_result"
    }
   ],
   "source": [
    "heart_data.high_blood_pressure.unique()"
   ]
  },
  {
   "cell_type": "code",
   "execution_count": 20,
   "metadata": {},
   "outputs": [
    {
     "data": {
      "text/plain": [
       "array([265000, 263358, 162000, 210000, 327000, 204000, 127000, 454000,\n",
       "       388000, 368000, 253000, 136000, 276000, 427000,  47000, 262000,\n",
       "       166000, 237000,  87000, 297000, 289000, 149000, 196000, 284000,\n",
       "       153000, 200000, 360000, 319000, 302000, 188000, 228000, 226000,\n",
       "       321000, 305000, 329000, 185000, 218000, 194000, 310000, 271000,\n",
       "       451000, 140000, 395000, 418000, 351000, 255000, 461000, 223000,\n",
       "       216000, 254000, 390000, 385000, 119000, 213000, 274000, 244000,\n",
       "       497000, 374000, 122000, 243000, 266000, 317000, 283000, 324000,\n",
       "       293000, 172000, 406000, 173000, 304000, 235000, 181000, 249000,\n",
       "       219000, 318000, 221000, 298000, 286000, 621000, 263000, 850000,\n",
       "       306000, 252000, 328000, 164000, 507000, 203000, 217000, 300000,\n",
       "       267000, 227000, 250000, 295000, 231000, 211000, 348000, 229000,\n",
       "       338000, 242000, 225000, 184000, 277000, 362000, 174000, 448000,\n",
       "        75000, 334000, 192000, 220000,  70000, 270000, 325000, 176000,\n",
       "       189000, 281000, 337000, 105000, 132000, 279000, 303000, 224000,\n",
       "       389000, 365000, 201000, 275000, 350000, 309000, 260000, 160000,\n",
       "       126000, 259000,  73000, 377000, 212000, 186000, 268000, 147000,\n",
       "       481000, 290000, 358000, 151000, 371000, 130000, 504000, 141000,\n",
       "        62000, 330000, 248000, 257000, 533000, 264000, 282000, 314000,\n",
       "       246000, 301000, 404000, 236000, 294000, 233000, 308000, 198000,\n",
       "       208000, 133000, 222000, 215000, 150000, 422000,  25100, 232000,\n",
       "       241000,  51000, 336000, 543000, 382000, 179000, 155000, 742000])"
      ]
     },
     "execution_count": 20,
     "metadata": {},
     "output_type": "execute_result"
    }
   ],
   "source": [
    "heart_data.platelets.unique()"
   ]
  },
  {
   "cell_type": "code",
   "execution_count": 21,
   "metadata": {
    "scrolled": true
   },
   "outputs": [
    {
     "data": {
      "text/plain": [
       "array([1.9 , 1.1 , 1.3 , 2.7 , 2.1 , 1.2 , 1.5 , 9.4 , 4.  , 0.9 , 1.  ,\n",
       "       0.8 , 1.6 , 1.83, 5.8 , 3.  , 3.5 , 2.3 , 0.6 , 4.4 , 1.4 , 6.8 ,\n",
       "       2.2 , 2.  , 1.18, 2.9 , 0.7 , 1.7 , 2.5 , 1.8 , 3.2 , 0.75, 3.7 ,\n",
       "       3.4 , 6.1 , 2.4 , 9.  , 5.  , 0.5 , 3.8 ])"
      ]
     },
     "execution_count": 21,
     "metadata": {},
     "output_type": "execute_result"
    }
   ],
   "source": [
    "heart_data.serum_creatinine.unique()"
   ]
  },
  {
   "cell_type": "code",
   "execution_count": 22,
   "metadata": {},
   "outputs": [
    {
     "data": {
      "text/plain": [
       "array([130, 136, 129, 137, 116, 132, 131, 138, 133, 140, 127, 121, 135,\n",
       "       134, 144, 128, 145, 142, 139, 146, 141, 143, 126, 124, 113, 125,\n",
       "       148])"
      ]
     },
     "execution_count": 22,
     "metadata": {},
     "output_type": "execute_result"
    }
   ],
   "source": [
    "heart_data.serum_sodium.unique()"
   ]
  },
  {
   "cell_type": "code",
   "execution_count": 23,
   "metadata": {},
   "outputs": [
    {
     "data": {
      "text/plain": [
       "array(['M', 'F'], dtype=object)"
      ]
     },
     "execution_count": 23,
     "metadata": {},
     "output_type": "execute_result"
    }
   ],
   "source": [
    "heart_data.sex.unique()"
   ]
  },
  {
   "cell_type": "code",
   "execution_count": 24,
   "metadata": {},
   "outputs": [
    {
     "data": {
      "text/plain": [
       "array([0, 1], dtype=int64)"
      ]
     },
     "execution_count": 24,
     "metadata": {},
     "output_type": "execute_result"
    }
   ],
   "source": [
    "heart_data.smoking.unique()"
   ]
  },
  {
   "cell_type": "code",
   "execution_count": 25,
   "metadata": {},
   "outputs": [
    {
     "data": {
      "text/plain": [
       "array([  4,   6,   7,   8,  10,  11,  12,  13,  14,  15,  16,  20,  22,\n",
       "        23,  24,  26,  27,  28,  29,  30,  31,  32,  33,  35,  38,  40,\n",
       "        41,  42,  43,  44,  45,  50,  54,  55,  59,  60,  61,  63,  64,\n",
       "        65,  66,  67,  68,  71,  72,  73,  74,  75,  76,  77,  78,  79,\n",
       "        80,  82,  83,  85,  86,  87,  88,  90,  91,  94,  95,  96,  97,\n",
       "       100, 104, 105, 106, 107, 108, 109, 110, 111, 112, 113, 115, 117,\n",
       "       118, 119, 120, 121, 123, 126, 129, 130, 134, 135, 140, 145, 146,\n",
       "       147, 148, 150, 154, 162, 170, 171, 172, 174, 175, 180, 185, 186,\n",
       "       187, 188, 192, 193, 194, 195, 196, 197, 198, 200, 201, 205, 206,\n",
       "       207, 208, 209, 210, 211, 212, 213, 214, 215, 216, 220, 230, 231,\n",
       "       233, 235, 237, 240, 241, 244, 245, 246, 247, 250, 256, 257, 258,\n",
       "       270, 271, 278, 280, 285], dtype=int64)"
      ]
     },
     "execution_count": 25,
     "metadata": {},
     "output_type": "execute_result"
    }
   ],
   "source": [
    "heart_data.time.unique()"
   ]
  },
  {
   "cell_type": "code",
   "execution_count": 26,
   "metadata": {
    "scrolled": true
   },
   "outputs": [
    {
     "data": {
      "text/plain": [
       "array([1, 0], dtype=int64)"
      ]
     },
     "execution_count": 26,
     "metadata": {},
     "output_type": "execute_result"
    }
   ],
   "source": [
    "heart_data.DEATH_EVENT.unique()"
   ]
  },
  {
   "cell_type": "markdown",
   "metadata": {},
   "source": [
    "# Task 2: data Exploration- exploring each column"
   ]
  },
  {
   "cell_type": "code",
   "execution_count": 27,
   "metadata": {},
   "outputs": [
    {
     "data": {
      "text/plain": [
       "age                           int32\n",
       "anaemia                       int64\n",
       "creatinine_phosphokinase      int64\n",
       "diabetes                      int64\n",
       "ejection_fraction             int64\n",
       "high_blood_pressure           int64\n",
       "platelets                     int32\n",
       "serum_creatinine            float64\n",
       "serum_sodium                  int32\n",
       "sex                          object\n",
       "smoking                       int64\n",
       "time                          int64\n",
       "DEATH_EVENT                   int64\n",
       "dtype: object"
      ]
     },
     "execution_count": 27,
     "metadata": {},
     "output_type": "execute_result"
    }
   ],
   "source": [
    "heart_data.dtypes"
   ]
  },
  {
   "cell_type": "code",
   "execution_count": null,
   "metadata": {},
   "outputs": [],
   "source": []
  },
  {
   "cell_type": "code",
   "execution_count": 28,
   "metadata": {},
   "outputs": [
    {
     "data": {
      "image/png": "[encoded data removed]",
      "text/plain": [
       "<Figure size 432x288 with 1 Axes>"
      ]
     },
     "metadata": {
      "needs_background": "light"
     },
     "output_type": "display_data"
    }
   ],
   "source": [
    "#we will check the age distribution of our patients\n",
    "heart_data['age'].plot.kde(ind=[0,20,40,60,80,100,120])\n",
    "plt.title('age')\n",
    "plt.xlabel('age')\n",
    "plt.show()"
   ]
  },
  {
   "cell_type": "code",
   "execution_count": 29,
   "metadata": {},
   "outputs": [
    {
     "data": {
      "image/png": "[encoded data removed]",
      "text/plain": [
       "<Figure size 432x288 with 1 Axes>"
      ]
     },
     "metadata": {},
     "output_type": "display_data"
    }
   ],
   "source": [
    "pie_anaemia = (heart_data['anaemia'])\n",
    "pie_anaemia = pie_anaemia.copy(deep=True)\n",
    "pie_anaemia.replace(0, 'NO',inplace=True)\n",
    "pie_anaemia.replace(1, 'YES',inplace=True)\n",
    "pie_anaemia.value_counts().plot(kind='pie')\n",
    "plt.title('anaemia')\n",
    "plt.show()"
   ]
  },
  {
   "cell_type": "code",
   "execution_count": 30,
   "metadata": {},
   "outputs": [
    {
     "data": {
      "image/png": "[encoded data removed]",
      "text/plain": [
       "<Figure size 432x288 with 1 Axes>"
      ]
     },
     "metadata": {
      "needs_background": "light"
     },
     "output_type": "display_data"
    }
   ],
   "source": [
    "heart_data['creatinine_phosphokinase'].diff().hist();\n",
    "plt.title('creatinine_phosphokinase')\n",
    "plt.xlabel('creatinine_phosphokinase mcg/L')\n",
    "plt.show()"
   ]
  },
  {
   "cell_type": "code",
   "execution_count": 31,
   "metadata": {},
   "outputs": [
    {
     "data": {
      "image/png": "[encoded data removed]",
      "text/plain": [
       "<Figure size 432x288 with 1 Axes>"
      ]
     },
     "metadata": {},
     "output_type": "display_data"
    }
   ],
   "source": [
    "pie_dia = (heart_data['diabetes'])\n",
    "pie_dia =pie_dia.copy(deep=True)\n",
    "pie_dia.replace(0, 'NO',inplace=True)\n",
    "pie_dia.replace(1, 'YES',inplace=True)\n",
    "pie_dia.value_counts().plot(kind='pie')\n",
    "plt.title('diabetes')\n",
    "plt.show()"
   ]
  },
  {
   "cell_type": "code",
   "execution_count": 32,
   "metadata": {},
   "outputs": [
    {
     "data": {
      "text/plain": [
       "0    174\n",
       "1    125\n",
       "Name: diabetes, dtype: int64"
      ]
     },
     "execution_count": 32,
     "metadata": {},
     "output_type": "execute_result"
    }
   ],
   "source": [
    "heart_data['diabetes'].value_counts()\n",
    "#58% did not have diabetes, 42% do have diabetes"
   ]
  },
  {
   "cell_type": "code",
   "execution_count": 33,
   "metadata": {},
   "outputs": [
    {
     "data": {
      "image/png": "[encoded data removed]",
      "text/plain": [
       "<Figure size 432x288 with 1 Axes>"
      ]
     },
     "metadata": {
      "needs_background": "light"
     },
     "output_type": "display_data"
    }
   ],
   "source": [
    "heart_data['ejection_fraction'].plot.kde(ind=[0,15,30,45,60,75,90])\n",
    "plt.title('ejection fraction')\n",
    "plt.xlabel('ejection fraction percentage')\n",
    "plt.show()"
   ]
  },
  {
   "cell_type": "code",
   "execution_count": 34,
   "metadata": {},
   "outputs": [
    {
     "data": {
      "image/png": "[encoded data removed]",
      "text/plain": [
       "<Figure size 432x288 with 1 Axes>"
      ]
     },
     "metadata": {},
     "output_type": "display_data"
    }
   ],
   "source": [
    "pie_high = (heart_data['high_blood_pressure'])\n",
    "pie_high =pie_high.copy(deep=True)\n",
    "pie_high.replace(0, 'NO',inplace=True)\n",
    "pie_high.replace(1, 'YES',inplace=True)\n",
    "pie_high.value_counts().plot(kind='pie')\n",
    "plt.title('high blood pressure')\n",
    "plt.show()"
   ]
  },
  {
   "cell_type": "code",
   "execution_count": 35,
   "metadata": {},
   "outputs": [
    {
     "data": {
      "text/plain": [
       "NO     194\n",
       "YES    105\n",
       "Name: high_blood_pressure, dtype: int64"
      ]
     },
     "execution_count": 35,
     "metadata": {},
     "output_type": "execute_result"
    }
   ],
   "source": [
    "pie_high.value_counts()"
   ]
  },
  {
   "cell_type": "code",
   "execution_count": 36,
   "metadata": {},
   "outputs": [
    {
     "data": {
      "image/png": "[encoded data removed]",
      "text/plain": [
       "<Figure size 432x288 with 1 Axes>"
      ]
     },
     "metadata": {
      "needs_background": "light"
     },
     "output_type": "display_data"
    }
   ],
   "source": [
    "plt.hist(heart_data['platelets'], density=False, bins=20) \n",
    "plt.ylabel('occurance in patients')\n",
    "plt.xlabel('platelets amount kiloplatelets/mL');"
   ]
  },
  {
   "cell_type": "code",
   "execution_count": 37,
   "metadata": {},
   "outputs": [
    {
     "data": {
      "image/png": "[encoded data removed]",
      "text/plain": [
       "<Figure size 432x288 with 1 Axes>"
      ]
     },
     "metadata": {
      "needs_background": "light"
     },
     "output_type": "display_data"
    }
   ],
   "source": [
    "heart_data['serum_creatinine'].plot.kde(ind=[0,0.5,1,1.5,2,2.5,3])\n",
    "plt.title('serum_creatinine')\n",
    "plt.xlabel('serum_creatinine amount mg/dL')\n",
    "plt.show()"
   ]
  },
  {
   "cell_type": "code",
   "execution_count": 38,
   "metadata": {},
   "outputs": [
    {
     "data": {
      "image/png": "[encoded data removed]",
      "text/plain": [
       "<Figure size 432x288 with 1 Axes>"
      ]
     },
     "metadata": {
      "needs_background": "light"
     },
     "output_type": "display_data"
    }
   ],
   "source": [
    "plt.hist(heart_data['serum_sodium'], density=False, bins=20) \n",
    "plt.ylabel('occurance in patients')\n",
    "plt.xlabel('serum sodium mEq/L');"
   ]
  },
  {
   "cell_type": "code",
   "execution_count": 39,
   "metadata": {},
   "outputs": [
    {
     "data": {
      "image/png": "[encoded data removed]",
      "text/plain": [
       "<Figure size 432x288 with 1 Axes>"
      ]
     },
     "metadata": {},
     "output_type": "display_data"
    }
   ],
   "source": [
    "pie_smoking =heart_data['smoking']\n",
    "pie_smoking =pie_smoking.copy(deep=True)\n",
    "pie_smoking.replace(0, 'NO',inplace=True)\n",
    "pie_smoking.replace(1, 'YES',inplace=True)\n",
    "pie_smoking.value_counts().plot(kind='pie')\n",
    "plt.title('smokers')\n",
    "plt.show()"
   ]
  },
  {
   "cell_type": "code",
   "execution_count": 40,
   "metadata": {},
   "outputs": [
    {
     "data": {
      "image/png": "[encoded data removed]",
      "text/plain": [
       "<Figure size 432x288 with 1 Axes>"
      ]
     },
     "metadata": {},
     "output_type": "display_data"
    }
   ],
   "source": [
    "#we will check if we have equal male and female participant so we can account for this if not\n",
    "heart_data['sex'].value_counts().plot(kind='pie')\n",
    "plt.title('Sex')\n",
    "plt.show()"
   ]
  },
  {
   "cell_type": "code",
   "execution_count": 41,
   "metadata": {},
   "outputs": [
    {
     "data": {
      "text/plain": [
       "M    194\n",
       "F    105\n",
       "Name: sex, dtype: int64"
      ]
     },
     "execution_count": 41,
     "metadata": {},
     "output_type": "execute_result"
    }
   ],
   "source": [
    "heart_data['sex'].value_counts()"
   ]
  },
  {
   "cell_type": "code",
   "execution_count": 42,
   "metadata": {
    "scrolled": true
   },
   "outputs": [
    {
     "data": {
      "image/png": "[encoded data removed]",
      "text/plain": [
       "<Figure size 432x288 with 1 Axes>"
      ]
     },
     "metadata": {},
     "output_type": "display_data"
    }
   ],
   "source": [
    "pie_death = (heart_data['DEATH_EVENT'])\n",
    "pie_death =pie_death.copy(deep=True)\n",
    "pie_death.replace(0, 'SURVIVED',inplace=True)\n",
    "pie_death.replace(1, 'DIED',inplace=True)\n",
    "pie_death.value_counts().plot(kind='pie')\n",
    "plt.title('survival rate')\n",
    "plt.show()"
   ]
  },
  {
   "cell_type": "code",
   "execution_count": 43,
   "metadata": {},
   "outputs": [
    {
     "data": {
      "text/plain": [
       "0    203\n",
       "1     96\n",
       "Name: DEATH_EVENT, dtype: int64"
      ]
     },
     "execution_count": 43,
     "metadata": {},
     "output_type": "execute_result"
    }
   ],
   "source": [
    "heart_data['DEATH_EVENT'].value_counts()\n",
    "#68% lived, and 32% died"
   ]
  },
  {
   "cell_type": "markdown",
   "metadata": {},
   "source": [
    "# task 2: Data Exploration- relationships between columns"
   ]
  },
  {
   "cell_type": "code",
   "execution_count": 44,
   "metadata": {},
   "outputs": [
    {
     "data": {
      "image/png": "[encoded data removed]",
      "text/plain": [
       "<Figure size 432x288 with 1 Axes>"
      ]
     },
     "metadata": {
      "needs_background": "light"
     },
     "output_type": "display_data"
    }
   ],
   "source": [
    "#assumption 1- i have assumed that a high blood pressure will be more likely \n",
    "#in patients with diabetes- this should be taken into consideration when \n",
    "#considering a link between high blood pressure and its relationship with heart failure\n",
    "df = heart_data.groupby('diabetes')['high_blood_pressure'].value_counts()\n",
    "plt.ylabel('patient count')\n",
    "\n",
    "ax = df.plot.bar(x='lab', y='val', rot=0)\n"
   ]
  },
  {
   "cell_type": "code",
   "execution_count": 45,
   "metadata": {},
   "outputs": [
    {
     "data": {
      "text/plain": [
       "62     1\n",
       "43     1\n",
       "82     1\n",
       "112    1\n",
       "Name: high_blood_pressure, dtype: int64"
      ]
     },
     "execution_count": 45,
     "metadata": {},
     "output_type": "execute_result"
    }
   ],
   "source": [
    "df.value_counts()"
   ]
  },
  {
   "cell_type": "code",
   "execution_count": 46,
   "metadata": {
    "scrolled": true
   },
   "outputs": [
    {
     "data": {
      "image/png": "[encoded data removed]",
      "text/plain": [
       "<Figure size 432x288 with 1 Axes>"
      ]
     },
     "metadata": {
      "needs_background": "light"
     },
     "output_type": "display_data"
    }
   ],
   "source": [
    "#assumption 2- diabetes increases chance of death event\n",
    "df2 = heart_data.groupby('diabetes')['DEATH_EVENT'].value_counts()\n",
    "plt.ylabel('patient count')\n",
    "\n",
    "ax = df2.plot.bar(x='lab', y='val', rot=0)\n"
   ]
  },
  {
   "cell_type": "code",
   "execution_count": 47,
   "metadata": {},
   "outputs": [
    {
     "data": {
      "text/plain": [
       "118    1\n",
       "85     1\n",
       "40     1\n",
       "56     1\n",
       "Name: DEATH_EVENT, dtype: int64"
      ]
     },
     "execution_count": 47,
     "metadata": {},
     "output_type": "execute_result"
    }
   ],
   "source": [
    "df2.value_counts()"
   ]
  },
  {
   "cell_type": "code",
   "execution_count": 48,
   "metadata": {},
   "outputs": [
    {
     "data": {
      "image/png": "[encoded data removed]",
      "text/plain": [
       "<Figure size 432x288 with 1 Axes>"
      ]
     },
     "metadata": {
      "needs_background": "light"
     },
     "output_type": "display_data"
    }
   ],
   "source": [
    "#assumption 3- smoking increases chance of death event\n",
    "df3 = heart_data.groupby('smoking')['DEATH_EVENT'].value_counts()\n",
    "plt.ylabel('patient count')\n",
    "\n",
    "ax = df3.plot.bar(x='lab', y='val', rot=0)"
   ]
  },
  {
   "cell_type": "code",
   "execution_count": 49,
   "metadata": {},
   "outputs": [
    {
     "data": {
      "text/plain": [
       "66     2\n",
       "137    1\n",
       "30     1\n",
       "Name: DEATH_EVENT, dtype: int64"
      ]
     },
     "execution_count": 49,
     "metadata": {},
     "output_type": "execute_result"
    }
   ],
   "source": [
    "df3.value_counts()"
   ]
  },
  {
   "cell_type": "code",
   "execution_count": 50,
   "metadata": {},
   "outputs": [
    {
     "data": {
      "text/plain": [
       "[None]"
      ]
     },
     "execution_count": 50,
     "metadata": {},
     "output_type": "execute_result"
    },
    {
     "data": {
      "image/png": "[encoded data removed]",
      "text/plain": [
       "<Figure size 432x288 with 1 Axes>"
      ]
     },
     "metadata": {
      "needs_background": "light"
     },
     "output_type": "display_data"
    }
   ],
   "source": [
    "graph =sns.scatterplot(x=\"creatinine_phosphokinase\", y=\"platelets\",\n",
    "              hue=\"DEATH_EVENT\",\n",
    "              data=heart_data);\n",
    "graph.set(xscale=\"log\")\n",
    "#assumption 4- I assumed there would be some kind of relationship between platelets count and creatine_phosphokinase\n",
    "#that could be used to predict a death event. "
   ]
  },
  {
   "cell_type": "code",
   "execution_count": 51,
   "metadata": {},
   "outputs": [
    {
     "data": {
      "text/plain": [
       "[None]"
      ]
     },
     "execution_count": 51,
     "metadata": {},
     "output_type": "execute_result"
    },
    {
     "data": {
      "image/png": "[encoded data removed]",
      "text/plain": [
       "<Figure size 432x288 with 1 Axes>"
      ]
     },
     "metadata": {
      "needs_background": "light"
     },
     "output_type": "display_data"
    }
   ],
   "source": [
    "#Assumption 5- I assumed there would be some kind of relationship between creatinine_phosphokinase and ejection_fraction that\n",
    "#could be used to predict a death event\n",
    "graph =sns.scatterplot(x=\"creatinine_phosphokinase\", y=\"ejection_fraction\",\n",
    "              hue=\"DEATH_EVENT\",\n",
    "              data=heart_data);\n",
    "graph.set(xscale=\"log\")"
   ]
  },
  {
   "cell_type": "code",
   "execution_count": 52,
   "metadata": {},
   "outputs": [
    {
     "data": {
      "text/plain": [
       "<AxesSubplot:xlabel='DEATH_EVENT', ylabel='creatinine_phosphokinase'>"
      ]
     },
     "execution_count": 52,
     "metadata": {},
     "output_type": "execute_result"
    },
    {
     "data": {
      "image/png": "[encoded data removed]",
      "text/plain": [
       "<Figure size 432x288 with 1 Axes>"
      ]
     },
     "metadata": {
      "needs_background": "light"
     },
     "output_type": "display_data"
    }
   ],
   "source": [
    "#assumption 6- high levels of creatinine_phosphokinase increase chances of a death event\n",
    "sns.violinplot(x=\"DEATH_EVENT\", y=\"creatinine_phosphokinase\", data=heart_data)"
   ]
  },
  {
   "cell_type": "code",
   "execution_count": 53,
   "metadata": {},
   "outputs": [
    {
     "data": {
      "text/plain": [
       "<AxesSubplot:xlabel='DEATH_EVENT', ylabel='ejection_fraction'>"
      ]
     },
     "execution_count": 53,
     "metadata": {},
     "output_type": "execute_result"
    },
    {
     "data": {
      "image/png": "[encoded data removed]",
      "text/plain": [
       "<Figure size 432x288 with 1 Axes>"
      ]
     },
     "metadata": {
      "needs_background": "light"
     },
     "output_type": "display_data"
    }
   ],
   "source": [
    "#assumption 7- high levels of ejection fraction increase chances of a death event\n",
    "sns.violinplot(x=\"DEATH_EVENT\", y=\"ejection_fraction\", data=heart_data)"
   ]
  },
  {
   "cell_type": "code",
   "execution_count": 54,
   "metadata": {},
   "outputs": [
    {
     "data": {
      "text/plain": [
       "<AxesSubplot:xlabel='DEATH_EVENT', ylabel='serum_creatinine'>"
      ]
     },
     "execution_count": 54,
     "metadata": {},
     "output_type": "execute_result"
    },
    {
     "data": {
      "image/png": "[encoded data removed]",
      "text/plain": [
       "<Figure size 432x288 with 1 Axes>"
      ]
     },
     "metadata": {
      "needs_background": "light"
     },
     "output_type": "display_data"
    }
   ],
   "source": [
    "#assumption 8- high levels of serum creatine increase chances of a death event\n",
    "sns.violinplot(x=\"DEATH_EVENT\", y=\"serum_creatinine\", data=heart_data)"
   ]
  },
  {
   "cell_type": "code",
   "execution_count": 55,
   "metadata": {},
   "outputs": [
    {
     "data": {
      "text/plain": [
       "[None]"
      ]
     },
     "execution_count": 55,
     "metadata": {},
     "output_type": "execute_result"
    },
    {
     "data": {
      "image/png": "[encoded data removed]",
      "text/plain": [
       "<Figure size 432x288 with 1 Axes>"
      ]
     },
     "metadata": {
      "needs_background": "light"
     },
     "output_type": "display_data"
    }
   ],
   "source": [
    "#assumption 9- serum creatinine and ejection fraction can be used to predict death event- a log is addded for easier visual\n",
    "graph =sns.scatterplot(x=\"serum_creatinine\", y=\"ejection_fraction\",\n",
    "              hue=\"DEATH_EVENT\",\n",
    "              data=heart_data);\n",
    "graph.set(xscale=\"log\")"
   ]
  },
  {
   "cell_type": "code",
   "execution_count": 56,
   "metadata": {},
   "outputs": [
    {
     "data": {
      "image/png": "[encoded data removed]",
      "text/plain": [
       "<Figure size 432x288 with 1 Axes>"
      ]
     },
     "metadata": {
      "needs_background": "light"
     },
     "output_type": "display_data"
    }
   ],
   "source": [
    "#without log\n",
    "graph =sns.scatterplot(x=\"serum_creatinine\", y=\"ejection_fraction\",\n",
    "              hue=\"DEATH_EVENT\",\n",
    "              data=heart_data);\n"
   ]
  },
  {
   "cell_type": "code",
   "execution_count": 57,
   "metadata": {
    "scrolled": true
   },
   "outputs": [
    {
     "data": {
      "text/plain": [
       "<AxesSubplot:xlabel='DEATH_EVENT', ylabel='age'>"
      ]
     },
     "execution_count": 57,
     "metadata": {},
     "output_type": "execute_result"
    },
    {
     "data": {
      "image/png": "[encoded data removed]",
      "text/plain": [
       "<Figure size 432x288 with 1 Axes>"
      ]
     },
     "metadata": {
      "needs_background": "light"
     },
     "output_type": "display_data"
    }
   ],
   "source": [
    "#assumption 10- younger people are more likely to not experience a death event\n",
    "sns.violinplot(x=\"DEATH_EVENT\", y=\"age\", data=heart_data)"
   ]
  },
  {
   "cell_type": "markdown",
   "metadata": {},
   "source": [
    "# Task : 3 classifcation"
   ]
  },
  {
   "cell_type": "markdown",
   "metadata": {},
   "source": [
    "#from our assumption 9 we can see a clear set of data that defines serum_creatinine and ejection_fraction having an effect on DEATH_EVENT. we will use these in our models"
   ]
  },
  {
   "cell_type": "code",
   "execution_count": 58,
   "metadata": {},
   "outputs": [],
   "source": [
    "from sklearn.model_selection import train_test_split"
   ]
  },
  {
   "cell_type": "code",
   "execution_count": 59,
   "metadata": {},
   "outputs": [],
   "source": [
    "heartFilters= heart_data.filter([\"serum_creatinine\", \"ejection_fraction\"])"
   ]
  },
  {
   "cell_type": "code",
   "execution_count": 60,
   "metadata": {},
   "outputs": [],
   "source": [
    "target= heart_data[\"DEATH_EVENT\"]"
   ]
  },
  {
   "cell_type": "markdown",
   "metadata": {},
   "source": [
    "80/20 split"
   ]
  },
  {
   "cell_type": "code",
   "execution_count": 61,
   "metadata": {},
   "outputs": [],
   "source": [
    "xTrain, xTest, yTrain, yTest = train_test_split(heartFilters, target, test_size = 0.2, random_state=1)"
   ]
  },
  {
   "cell_type": "code",
   "execution_count": 62,
   "metadata": {},
   "outputs": [
    {
     "name": "stdout",
     "output_type": "stream",
     "text": [
      "kval = 1 , score = 0.7166666666666667 | (bestVal =0.7166666666666667 k=1 p=1 \n",
      " END)\n",
      "kval = 2 , score = 0.8333333333333334 | (bestVal =0.8333333333333334 k=2 p=1 \n",
      " END)\n",
      "kval = 3 , score = 0.8166666666666667 | (bestVal =0.8333333333333334 k=2 p=1 \n",
      " END)\n",
      "kval = 4 , score = 0.8666666666666667 | (bestVal =0.8666666666666667 k=4 p=1 \n",
      " END)\n",
      "kval = 5 , score = 0.8166666666666667 | (bestVal =0.8666666666666667 k=4 p=1 \n",
      " END)\n",
      "kval = 6 , score = 0.85 | (bestVal =0.8666666666666667 k=4 p=1 \n",
      " END)\n",
      "kval = 7 , score = 0.85 | (bestVal =0.8666666666666667 k=4 p=1 \n",
      " END)\n",
      "kval = 8 , score = 0.8333333333333334 | (bestVal =0.8666666666666667 k=4 p=1 \n",
      " END)\n",
      "kval = 9 , score = 0.8166666666666667 | (bestVal =0.8666666666666667 k=4 p=1 \n",
      " END)\n",
      "kval = 10 , score = 0.8666666666666667 | (bestVal =0.8666666666666667 k=4 p=1 \n",
      " END)\n",
      "kval = 11 , score = 0.8666666666666667 | (bestVal =0.8666666666666667 k=4 p=1 \n",
      " END)\n",
      "kval = 12 , score = 0.8833333333333333 | (bestVal =0.8833333333333333 k=12 p=1 \n",
      " END)\n",
      "kval = 13 , score = 0.8666666666666667 | (bestVal =0.8833333333333333 k=12 p=1 \n",
      " END)\n",
      "kval = 14 , score = 0.8333333333333334 | (bestVal =0.8833333333333333 k=12 p=1 \n",
      " END)\n",
      "kval = 15 , score = 0.8166666666666667 | (bestVal =0.8833333333333333 k=12 p=1 \n",
      " END)\n",
      "kval = 16 , score = 0.8666666666666667 | (bestVal =0.8833333333333333 k=12 p=1 \n",
      " END)\n",
      "kval = 17 , score = 0.8666666666666667 | (bestVal =0.8833333333333333 k=12 p=1 \n",
      " END)\n",
      "kval = 18 , score = 0.85 | (bestVal =0.8833333333333333 k=12 p=1 \n",
      " END)\n",
      "kval = 19 , score = 0.8666666666666667 | (bestVal =0.8833333333333333 k=12 p=1 \n",
      " END)\n",
      "kval = 20 , score = 0.8166666666666667 | (bestVal =0.8833333333333333 k=12 p=1 \n",
      " END)\n",
      "kval = 21 , score = 0.8166666666666667 | (bestVal =0.8833333333333333 k=12 p=1 \n",
      " END)\n",
      "kval = 22 , score = 0.8166666666666667 | (bestVal =0.8833333333333333 k=12 p=1 \n",
      " END)\n",
      "kval = 23 , score = 0.8 | (bestVal =0.8833333333333333 k=12 p=1 \n",
      " END)\n",
      "kval = 24 , score = 0.8166666666666667 | (bestVal =0.8833333333333333 k=12 p=1 \n",
      " END)\n",
      "kval = 25 , score = 0.8 | (bestVal =0.8833333333333333 k=12 p=1 \n",
      " END)\n",
      "kval = 26 , score = 0.8 | (bestVal =0.8833333333333333 k=12 p=1 \n",
      " END)\n",
      "kval = 27 , score = 0.8166666666666667 | (bestVal =0.8833333333333333 k=12 p=1 \n",
      " END)\n",
      "kval = 28 , score = 0.7833333333333333 | (bestVal =0.8833333333333333 k=12 p=1 \n",
      " END)\n",
      "kval = 29 , score = 0.8166666666666667 | (bestVal =0.8833333333333333 k=12 p=1 \n",
      " END)\n",
      "kval = 30 , score = 0.8166666666666667 | (bestVal =0.8833333333333333 k=12 p=1 \n",
      " END)\n",
      "kval = 31 , score = 0.8166666666666667 | (bestVal =0.8833333333333333 k=12 p=1 \n",
      " END)\n",
      "kval = 32 , score = 0.8166666666666667 | (bestVal =0.8833333333333333 k=12 p=1 \n",
      " END)\n",
      "kval = 33 , score = 0.7833333333333333 | (bestVal =0.8833333333333333 k=12 p=1 \n",
      " END)\n",
      "kval = 34 , score = 0.8 | (bestVal =0.8833333333333333 k=12 p=1 \n",
      " END)\n",
      "kval = 35 , score = 0.7833333333333333 | (bestVal =0.8833333333333333 k=12 p=1 \n",
      " END)\n",
      "kval = 36 , score = 0.7833333333333333 | (bestVal =0.8833333333333333 k=12 p=1 \n",
      " END)\n",
      "kval = 37 , score = 0.7833333333333333 | (bestVal =0.8833333333333333 k=12 p=1 \n",
      " END)\n",
      "kval = 38 , score = 0.7833333333333333 | (bestVal =0.8833333333333333 k=12 p=1 \n",
      " END)\n",
      "kval = 39 , score = 0.7833333333333333 | (bestVal =0.8833333333333333 k=12 p=1 \n",
      " END)\n",
      "kval = 40 , score = 0.7833333333333333 | (bestVal =0.8833333333333333 k=12 p=1 \n",
      " END)\n",
      "kval = 41 , score = 0.7833333333333333 | (bestVal =0.8833333333333333 k=12 p=1 \n",
      " END)\n",
      "kval = 42 , score = 0.7833333333333333 | (bestVal =0.8833333333333333 k=12 p=1 \n",
      " END)\n",
      "kval = 43 , score = 0.7833333333333333 | (bestVal =0.8833333333333333 k=12 p=1 \n",
      " END)\n",
      "kval = 44 , score = 0.7833333333333333 | (bestVal =0.8833333333333333 k=12 p=1 \n",
      " END)\n",
      "kval = 45 , score = 0.7833333333333333 | (bestVal =0.8833333333333333 k=12 p=1 \n",
      " END)\n",
      "kval = 46 , score = 0.7833333333333333 | (bestVal =0.8833333333333333 k=12 p=1 \n",
      " END)\n",
      "kval = 47 , score = 0.7833333333333333 | (bestVal =0.8833333333333333 k=12 p=1 \n",
      " END)\n",
      "kval = 48 , score = 0.7833333333333333 | (bestVal =0.8833333333333333 k=12 p=1 \n",
      " END)\n",
      "kval = 49 , score = 0.7833333333333333 | (bestVal =0.8833333333333333 k=12 p=1 \n",
      " END)\n",
      "kval = 50 , score = 0.7833333333333333 | (bestVal =0.8833333333333333 k=12 p=1 \n",
      " END)\n",
      "kval = 51 , score = 0.7833333333333333 | (bestVal =0.8833333333333333 k=12 p=1 \n",
      " END)\n",
      "kval = 52 , score = 0.7833333333333333 | (bestVal =0.8833333333333333 k=12 p=1 \n",
      " END)\n",
      "kval = 53 , score = 0.7833333333333333 | (bestVal =0.8833333333333333 k=12 p=1 \n",
      " END)\n",
      "kval = 54 , score = 0.7833333333333333 | (bestVal =0.8833333333333333 k=12 p=1 \n",
      " END)\n",
      "kval = 55 , score = 0.7833333333333333 | (bestVal =0.8833333333333333 k=12 p=1 \n",
      " END)\n",
      "kval = 56 , score = 0.7833333333333333 | (bestVal =0.8833333333333333 k=12 p=1 \n",
      " END)\n",
      "kval = 57 , score = 0.7833333333333333 | (bestVal =0.8833333333333333 k=12 p=1 \n",
      " END)\n",
      "kval = 58 , score = 0.7833333333333333 | (bestVal =0.8833333333333333 k=12 p=1 \n",
      " END)\n",
      "kval = 59 , score = 0.7833333333333333 | (bestVal =0.8833333333333333 k=12 p=1 \n",
      " END)\n",
      "kval = 60 , score = 0.7833333333333333 | (bestVal =0.8833333333333333 k=12 p=1 \n",
      " END)\n",
      "kval = 61 , score = 0.8166666666666667 | (bestVal =0.8833333333333333 k=12 p=1 \n",
      " END)\n",
      "kval = 62 , score = 0.8166666666666667 | (bestVal =0.8833333333333333 k=12 p=1 \n",
      " END)\n",
      "kval = 63 , score = 0.8166666666666667 | (bestVal =0.8833333333333333 k=12 p=1 \n",
      " END)\n",
      "kval = 64 , score = 0.8166666666666667 | (bestVal =0.8833333333333333 k=12 p=1 \n",
      " END)\n",
      "kval = 65 , score = 0.8166666666666667 | (bestVal =0.8833333333333333 k=12 p=1 \n",
      " END)\n",
      "kval = 66 , score = 0.8166666666666667 | (bestVal =0.8833333333333333 k=12 p=1 \n",
      " END)\n",
      "kval = 67 , score = 0.8166666666666667 | (bestVal =0.8833333333333333 k=12 p=1 \n",
      " END)\n",
      "kval = 68 , score = 0.8166666666666667 | (bestVal =0.8833333333333333 k=12 p=1 \n",
      " END)\n",
      "kval = 69 , score = 0.8166666666666667 | (bestVal =0.8833333333333333 k=12 p=1 \n",
      " END)\n",
      "kval = 70 , score = 0.8166666666666667 | (bestVal =0.8833333333333333 k=12 p=1 \n",
      " END)\n",
      "kval = 71 , score = 0.8166666666666667 | (bestVal =0.8833333333333333 k=12 p=1 \n",
      " END)\n",
      "kval = 72 , score = 0.8166666666666667 | (bestVal =0.8833333333333333 k=12 p=1 \n",
      " END)\n",
      "kval = 73 , score = 0.8166666666666667 | (bestVal =0.8833333333333333 k=12 p=1 \n",
      " END)\n",
      "kval = 74 , score = 0.8166666666666667 | (bestVal =0.8833333333333333 k=12 p=1 \n",
      " END)\n",
      "kval = 75 , score = 0.8166666666666667 | (bestVal =0.8833333333333333 k=12 p=1 \n",
      " END)\n",
      "kval = 76 , score = 0.8166666666666667 | (bestVal =0.8833333333333333 k=12 p=1 \n",
      " END)\n",
      "kval = 77 , score = 0.8166666666666667 | (bestVal =0.8833333333333333 k=12 p=1 \n",
      " END)\n",
      "kval = 78 , score = 0.8166666666666667 | (bestVal =0.8833333333333333 k=12 p=1 \n",
      " END)\n",
      "kval = 79 , score = 0.8 | (bestVal =0.8833333333333333 k=12 p=1 \n",
      " END)\n",
      "kval = 80 , score = 0.8166666666666667 | (bestVal =0.8833333333333333 k=12 p=1 \n",
      " END)\n",
      "kval = 81 , score = 0.8166666666666667 | (bestVal =0.8833333333333333 k=12 p=1 \n",
      " END)\n",
      "kval = 82 , score = 0.8166666666666667 | (bestVal =0.8833333333333333 k=12 p=1 \n",
      " END)\n",
      "kval = 83 , score = 0.8166666666666667 | (bestVal =0.8833333333333333 k=12 p=1 \n",
      " END)\n",
      "kval = 84 , score = 0.7833333333333333 | (bestVal =0.8833333333333333 k=12 p=1 \n",
      " END)\n",
      "kval = 85 , score = 0.7833333333333333 | (bestVal =0.8833333333333333 k=12 p=1 \n",
      " END)\n",
      "kval = 86 , score = 0.7666666666666667 | (bestVal =0.8833333333333333 k=12 p=1 \n",
      " END)\n",
      "kval = 87 , score = 0.7666666666666667 | (bestVal =0.8833333333333333 k=12 p=1 \n",
      " END)\n",
      "kval = 88 , score = 0.7666666666666667 | (bestVal =0.8833333333333333 k=12 p=1 \n",
      " END)\n",
      "kval = 89 , score = 0.7666666666666667 | (bestVal =0.8833333333333333 k=12 p=1 \n",
      " END)\n",
      "kval = 90 , score = 0.7666666666666667 | (bestVal =0.8833333333333333 k=12 p=1 \n",
      " END)\n",
      "kval = 91 , score = 0.75 | (bestVal =0.8833333333333333 k=12 p=1 \n",
      " END)\n",
      "kval = 92 , score = 0.7666666666666667 | (bestVal =0.8833333333333333 k=12 p=1 \n",
      " END)\n",
      "kval = 93 , score = 0.75 | (bestVal =0.8833333333333333 k=12 p=1 \n",
      " END)\n",
      "kval = 94 , score = 0.7666666666666667 | (bestVal =0.8833333333333333 k=12 p=1 \n",
      " END)\n",
      "kval = 95 , score = 0.7666666666666667 | (bestVal =0.8833333333333333 k=12 p=1 \n",
      " END)\n",
      "kval = 96 , score = 0.7666666666666667 | (bestVal =0.8833333333333333 k=12 p=1 \n",
      " END)\n",
      "kval = 97 , score = 0.7666666666666667 | (bestVal =0.8833333333333333 k=12 p=1 \n",
      " END)\n",
      "kval = 98 , score = 0.7666666666666667 | (bestVal =0.8833333333333333 k=12 p=1 \n",
      " END)\n",
      "kval = 99 , score = 0.7666666666666667 | (bestVal =0.8833333333333333 k=12 p=1 \n"
     ]
    },
    {
     "name": "stdout",
     "output_type": "stream",
     "text": [
      " END)\n"
     ]
    }
   ],
   "source": [
    "#find the best k and p value for the model\n",
    "from sklearn.neighbors import KNeighborsClassifier\n",
    "bestVal = 0\n",
    "bestK = -1\n",
    "bestP = -1\n",
    "for k in range(1,100):\n",
    "    for p in range(1,10):\n",
    "        clf = KNeighborsClassifier(k, p=p)\n",
    "        clf.fit(xTrain, yTrain)\n",
    "        predicted = clf.predict(xTest)\n",
    "        score = clf.score(xTest, yTest)\n",
    "        if score>bestVal:\n",
    "            bestVal = score\n",
    "            bestK = k\n",
    "            bestP = p \n",
    "        #if score is much worse than best score stop running \n",
    "    print('kval = {} , score = {} | (bestVal ={} k={} p={} {})'.format(k,score,bestVal, bestK, bestP, \"\\n END\"))"
   ]
  },
  {
   "cell_type": "code",
   "execution_count": 63,
   "metadata": {},
   "outputs": [],
   "source": [
    "clf = KNeighborsClassifier(bestK, p=bestP)\n",
    "fit = clf.fit(xTrain, yTrain)"
   ]
  },
  {
   "cell_type": "code",
   "execution_count": 64,
   "metadata": {},
   "outputs": [
    {
     "name": "stdout",
     "output_type": "stream",
     "text": [
      "              precision    recall  f1-score   support\n",
      "\n",
      "           0       0.88      0.98      0.93        46\n",
      "           1       0.89      0.57      0.70        14\n",
      "\n",
      "    accuracy                           0.88        60\n",
      "   macro avg       0.89      0.77      0.81        60\n",
      "weighted avg       0.88      0.88      0.87        60\n",
      "\n"
     ]
    }
   ],
   "source": [
    "from sklearn.metrics import confusion_matrix\n",
    "yPre = fit.predict(xTest)\n",
    "fit = clf.score(xTest, yTest)\n",
    "cm = confusion_matrix(yTest, yPre)\n",
    "from sklearn.metrics import classification_report\n",
    "print (classification_report(yTest,yPre))"
   ]
  },
  {
   "cell_type": "code",
   "execution_count": 65,
   "metadata": {},
   "outputs": [],
   "source": [
    "predicted = clf.predict(xTest)\n",
    "score = clf.score(xTest, yTest)"
   ]
  },
  {
   "cell_type": "code",
   "execution_count": 66,
   "metadata": {},
   "outputs": [
    {
     "data": {
      "text/plain": [
       "array([1, 0, 1, 0, 0, 0, 0, 0, 0, 0, 0, 0, 1, 0, 0, 0, 0, 1, 0, 0, 0, 0,\n",
       "       0, 1, 0, 0, 0, 0, 0, 0, 0, 0, 0, 0, 0, 0, 0, 0, 0, 0, 1, 0, 0, 0,\n",
       "       0, 0, 0, 0, 1, 1, 0, 0, 0, 1, 0, 0, 0, 0, 0, 0], dtype=int64)"
      ]
     },
     "execution_count": 66,
     "metadata": {},
     "output_type": "execute_result"
    }
   ],
   "source": [
    "predicted"
   ]
  },
  {
   "cell_type": "code",
   "execution_count": 67,
   "metadata": {},
   "outputs": [
    {
     "data": {
      "text/plain": [
       "0.8833333333333333"
      ]
     },
     "execution_count": 67,
     "metadata": {},
     "output_type": "execute_result"
    }
   ],
   "source": [
    "score"
   ]
  },
  {
   "cell_type": "markdown",
   "metadata": {},
   "source": [
    "60/40"
   ]
  },
  {
   "cell_type": "code",
   "execution_count": 68,
   "metadata": {},
   "outputs": [],
   "source": [
    "xTrain, xTest, yTrain, yTest = train_test_split(heartFilters, target, test_size = 0.4, random_state=1)"
   ]
  },
  {
   "cell_type": "code",
   "execution_count": 69,
   "metadata": {},
   "outputs": [
    {
     "name": "stdout",
     "output_type": "stream",
     "text": [
      "kval = 1 , score = 0.7583333333333333 | (bestVal =0.7583333333333333 k=1 p=1 \n",
      " END)\n",
      "kval = 2 , score = 0.7583333333333333 | (bestVal =0.7583333333333333 k=1 p=1 \n",
      " END)\n",
      "kval = 3 , score = 0.7833333333333333 | (bestVal =0.7833333333333333 k=3 p=1 \n",
      " END)\n",
      "kval = 4 , score = 0.775 | (bestVal =0.7833333333333333 k=3 p=1 \n",
      " END)\n",
      "kval = 5 , score = 0.775 | (bestVal =0.7833333333333333 k=3 p=1 \n",
      " END)\n",
      "kval = 6 , score = 0.7833333333333333 | (bestVal =0.7916666666666666 k=6 p=1 \n",
      " END)\n",
      "kval = 7 , score = 0.775 | (bestVal =0.7916666666666666 k=6 p=1 \n",
      " END)\n",
      "kval = 8 , score = 0.7833333333333333 | (bestVal =0.7916666666666666 k=6 p=1 \n",
      " END)\n",
      "kval = 9 , score = 0.775 | (bestVal =0.7916666666666666 k=6 p=1 \n",
      " END)\n",
      "kval = 10 , score = 0.7833333333333333 | (bestVal =0.7916666666666666 k=6 p=1 \n",
      " END)\n",
      "kval = 11 , score = 0.7916666666666666 | (bestVal =0.7916666666666666 k=6 p=1 \n",
      " END)\n",
      "kval = 12 , score = 0.7916666666666666 | (bestVal =0.7916666666666666 k=6 p=1 \n",
      " END)\n",
      "kval = 13 , score = 0.7833333333333333 | (bestVal =0.7916666666666666 k=6 p=1 \n",
      " END)\n",
      "kval = 14 , score = 0.7583333333333333 | (bestVal =0.7916666666666666 k=6 p=1 \n",
      " END)\n",
      "kval = 15 , score = 0.7583333333333333 | (bestVal =0.7916666666666666 k=6 p=1 \n",
      " END)\n",
      "kval = 16 , score = 0.7583333333333333 | (bestVal =0.7916666666666666 k=6 p=1 \n",
      " END)\n",
      "kval = 17 , score = 0.7666666666666667 | (bestVal =0.7916666666666666 k=6 p=1 \n",
      " END)\n",
      "kval = 18 , score = 0.7666666666666667 | (bestVal =0.7916666666666666 k=6 p=1 \n",
      " END)\n",
      "kval = 19 , score = 0.775 | (bestVal =0.7916666666666666 k=6 p=1 \n",
      " END)\n",
      "kval = 20 , score = 0.7583333333333333 | (bestVal =0.7916666666666666 k=6 p=1 \n",
      " END)\n",
      "kval = 21 , score = 0.7333333333333333 | (bestVal =0.7916666666666666 k=6 p=1 \n",
      " END)\n",
      "kval = 22 , score = 0.75 | (bestVal =0.7916666666666666 k=6 p=1 \n",
      " END)\n",
      "kval = 23 , score = 0.7583333333333333 | (bestVal =0.7916666666666666 k=6 p=1 \n",
      " END)\n",
      "kval = 24 , score = 0.75 | (bestVal =0.7916666666666666 k=6 p=1 \n",
      " END)\n",
      "kval = 25 , score = 0.7333333333333333 | (bestVal =0.7916666666666666 k=6 p=1 \n",
      " END)\n",
      "kval = 26 , score = 0.75 | (bestVal =0.7916666666666666 k=6 p=1 \n",
      " END)\n",
      "kval = 27 , score = 0.7416666666666667 | (bestVal =0.7916666666666666 k=6 p=1 \n",
      " END)\n",
      "kval = 28 , score = 0.7416666666666667 | (bestVal =0.7916666666666666 k=6 p=1 \n",
      " END)\n",
      "kval = 29 , score = 0.7416666666666667 | (bestVal =0.7916666666666666 k=6 p=1 \n",
      " END)\n",
      "kval = 30 , score = 0.7416666666666667 | (bestVal =0.7916666666666666 k=6 p=1 \n",
      " END)\n",
      "kval = 31 , score = 0.7416666666666667 | (bestVal =0.7916666666666666 k=6 p=1 \n",
      " END)\n",
      "kval = 32 , score = 0.7416666666666667 | (bestVal =0.7916666666666666 k=6 p=1 \n",
      " END)\n",
      "kval = 33 , score = 0.7416666666666667 | (bestVal =0.7916666666666666 k=6 p=1 \n",
      " END)\n",
      "kval = 34 , score = 0.7416666666666667 | (bestVal =0.7916666666666666 k=6 p=1 \n",
      " END)\n",
      "kval = 35 , score = 0.7416666666666667 | (bestVal =0.7916666666666666 k=6 p=1 \n",
      " END)\n",
      "kval = 36 , score = 0.7416666666666667 | (bestVal =0.7916666666666666 k=6 p=1 \n",
      " END)\n",
      "kval = 37 , score = 0.7416666666666667 | (bestVal =0.7916666666666666 k=6 p=1 \n",
      " END)\n",
      "kval = 38 , score = 0.7416666666666667 | (bestVal =0.7916666666666666 k=6 p=1 \n",
      " END)\n",
      "kval = 39 , score = 0.7416666666666667 | (bestVal =0.7916666666666666 k=6 p=1 \n",
      " END)\n",
      "kval = 40 , score = 0.7416666666666667 | (bestVal =0.7916666666666666 k=6 p=1 \n",
      " END)\n",
      "kval = 41 , score = 0.7416666666666667 | (bestVal =0.7916666666666666 k=6 p=1 \n",
      " END)\n",
      "kval = 42 , score = 0.7416666666666667 | (bestVal =0.7916666666666666 k=6 p=1 \n",
      " END)\n",
      "kval = 43 , score = 0.7416666666666667 | (bestVal =0.7916666666666666 k=6 p=1 \n",
      " END)\n",
      "kval = 44 , score = 0.7416666666666667 | (bestVal =0.7916666666666666 k=6 p=1 \n",
      " END)\n",
      "kval = 45 , score = 0.75 | (bestVal =0.7916666666666666 k=6 p=1 \n",
      " END)\n",
      "kval = 46 , score = 0.75 | (bestVal =0.7916666666666666 k=6 p=1 \n",
      " END)\n",
      "kval = 47 , score = 0.75 | (bestVal =0.7916666666666666 k=6 p=1 \n",
      " END)\n",
      "kval = 48 , score = 0.75 | (bestVal =0.7916666666666666 k=6 p=1 \n",
      " END)\n",
      "kval = 49 , score = 0.75 | (bestVal =0.7916666666666666 k=6 p=1 \n",
      " END)\n",
      "kval = 50 , score = 0.75 | (bestVal =0.7916666666666666 k=6 p=1 \n",
      " END)\n",
      "kval = 51 , score = 0.75 | (bestVal =0.7916666666666666 k=6 p=1 \n",
      " END)\n",
      "kval = 52 , score = 0.75 | (bestVal =0.7916666666666666 k=6 p=1 \n",
      " END)\n",
      "kval = 53 , score = 0.75 | (bestVal =0.7916666666666666 k=6 p=1 \n",
      " END)\n",
      "kval = 54 , score = 0.75 | (bestVal =0.7916666666666666 k=6 p=1 \n",
      " END)\n",
      "kval = 55 , score = 0.75 | (bestVal =0.7916666666666666 k=6 p=1 \n",
      " END)\n",
      "kval = 56 , score = 0.75 | (bestVal =0.7916666666666666 k=6 p=1 \n",
      " END)\n",
      "kval = 57 , score = 0.75 | (bestVal =0.7916666666666666 k=6 p=1 \n",
      " END)\n",
      "kval = 58 , score = 0.75 | (bestVal =0.7916666666666666 k=6 p=1 \n",
      " END)\n",
      "kval = 59 , score = 0.7583333333333333 | (bestVal =0.7916666666666666 k=6 p=1 \n",
      " END)\n",
      "kval = 60 , score = 0.7583333333333333 | (bestVal =0.7916666666666666 k=6 p=1 \n",
      " END)\n",
      "kval = 61 , score = 0.7416666666666667 | (bestVal =0.7916666666666666 k=6 p=1 \n",
      " END)\n",
      "kval = 62 , score = 0.7416666666666667 | (bestVal =0.7916666666666666 k=6 p=1 \n",
      " END)\n",
      "kval = 63 , score = 0.7333333333333333 | (bestVal =0.7916666666666666 k=6 p=1 \n",
      " END)\n",
      "kval = 64 , score = 0.7083333333333334 | (bestVal =0.7916666666666666 k=6 p=1 \n",
      " END)\n",
      "kval = 65 , score = 0.6916666666666667 | (bestVal =0.7916666666666666 k=6 p=1 \n",
      " END)\n",
      "kval = 66 , score = 0.7 | (bestVal =0.7916666666666666 k=6 p=1 \n",
      " END)\n",
      "kval = 67 , score = 0.7 | (bestVal =0.7916666666666666 k=6 p=1 \n",
      " END)\n",
      "kval = 68 , score = 0.6916666666666667 | (bestVal =0.7916666666666666 k=6 p=1 \n",
      " END)\n",
      "kval = 69 , score = 0.6916666666666667 | (bestVal =0.7916666666666666 k=6 p=1 \n",
      " END)\n",
      "kval = 70 , score = 0.7 | (bestVal =0.7916666666666666 k=6 p=1 \n",
      " END)\n",
      "kval = 71 , score = 0.7 | (bestVal =0.7916666666666666 k=6 p=1 \n",
      " END)\n",
      "kval = 72 , score = 0.7 | (bestVal =0.7916666666666666 k=6 p=1 \n",
      " END)\n",
      "kval = 73 , score = 0.7 | (bestVal =0.7916666666666666 k=6 p=1 \n",
      " END)\n",
      "kval = 74 , score = 0.7 | (bestVal =0.7916666666666666 k=6 p=1 \n",
      " END)\n",
      "kval = 75 , score = 0.7 | (bestVal =0.7916666666666666 k=6 p=1 \n",
      " END)\n",
      "kval = 76 , score = 0.7 | (bestVal =0.7916666666666666 k=6 p=1 \n",
      " END)\n",
      "kval = 77 , score = 0.7 | (bestVal =0.7916666666666666 k=6 p=1 \n",
      " END)\n",
      "kval = 78 , score = 0.7 | (bestVal =0.7916666666666666 k=6 p=1 \n",
      " END)\n",
      "kval = 79 , score = 0.7 | (bestVal =0.7916666666666666 k=6 p=1 \n",
      " END)\n",
      "kval = 80 , score = 0.7 | (bestVal =0.7916666666666666 k=6 p=1 \n",
      " END)\n",
      "kval = 81 , score = 0.7 | (bestVal =0.7916666666666666 k=6 p=1 \n",
      " END)\n",
      "kval = 82 , score = 0.7 | (bestVal =0.7916666666666666 k=6 p=1 \n",
      " END)\n",
      "kval = 83 , score = 0.7 | (bestVal =0.7916666666666666 k=6 p=1 \n",
      " END)\n",
      "kval = 84 , score = 0.7 | (bestVal =0.7916666666666666 k=6 p=1 \n",
      " END)\n",
      "kval = 85 , score = 0.7 | (bestVal =0.7916666666666666 k=6 p=1 \n",
      " END)\n",
      "kval = 86 , score = 0.7 | (bestVal =0.7916666666666666 k=6 p=1 \n",
      " END)\n",
      "kval = 87 , score = 0.7 | (bestVal =0.7916666666666666 k=6 p=1 \n",
      " END)\n",
      "kval = 88 , score = 0.7 | (bestVal =0.7916666666666666 k=6 p=1 \n",
      " END)\n",
      "kval = 89 , score = 0.7 | (bestVal =0.7916666666666666 k=6 p=1 \n",
      " END)\n",
      "kval = 90 , score = 0.7 | (bestVal =0.7916666666666666 k=6 p=1 \n",
      " END)\n",
      "kval = 91 , score = 0.7 | (bestVal =0.7916666666666666 k=6 p=1 \n",
      " END)\n",
      "kval = 92 , score = 0.7 | (bestVal =0.7916666666666666 k=6 p=1 \n",
      " END)\n",
      "kval = 93 , score = 0.7 | (bestVal =0.7916666666666666 k=6 p=1 \n",
      " END)\n",
      "kval = 94 , score = 0.7 | (bestVal =0.7916666666666666 k=6 p=1 \n",
      " END)\n",
      "kval = 95 , score = 0.7 | (bestVal =0.7916666666666666 k=6 p=1 \n",
      " END)\n",
      "kval = 96 , score = 0.7 | (bestVal =0.7916666666666666 k=6 p=1 \n",
      " END)\n",
      "kval = 97 , score = 0.7 | (bestVal =0.7916666666666666 k=6 p=1 \n",
      " END)\n",
      "kval = 98 , score = 0.7 | (bestVal =0.7916666666666666 k=6 p=1 \n",
      " END)\n",
      "kval = 99 , score = 0.7 | (bestVal =0.7916666666666666 k=6 p=1 \n",
      " END)\n"
     ]
    }
   ],
   "source": [
    "#find the best k and p value for the model\n",
    "from sklearn.neighbors import KNeighborsClassifier\n",
    "bestVal = 0\n",
    "bestK = -1\n",
    "bestP = -1\n",
    "for k in range(1,100):\n",
    "    for p in range(1,10):\n",
    "        clf = KNeighborsClassifier(k, p=p)\n",
    "        clf.fit(xTrain, yTrain)\n",
    "        predicted = clf.predict(xTest)\n",
    "        score = clf.score(xTest, yTest)\n",
    "        if score>bestVal:\n",
    "            bestVal = score\n",
    "            bestK = k\n",
    "            bestP = p \n",
    "        #if score is much worse than best score stop running \n",
    "    print('kval = {} , score = {} | (bestVal ={} k={} p={} {})'.format(k,score,bestVal, bestK, bestP, \"\\n END\"))"
   ]
  },
  {
   "cell_type": "code",
   "execution_count": 70,
   "metadata": {},
   "outputs": [],
   "source": [
    "clf = KNeighborsClassifier(bestK, p=bestP)\n",
    "fit = clf.fit(xTrain, yTrain)"
   ]
  },
  {
   "cell_type": "code",
   "execution_count": 71,
   "metadata": {},
   "outputs": [
    {
     "name": "stdout",
     "output_type": "stream",
     "text": [
      "              precision    recall  f1-score   support\n",
      "\n",
      "           0       0.82      0.90      0.86        84\n",
      "           1       0.70      0.53      0.60        36\n",
      "\n",
      "    accuracy                           0.79       120\n",
      "   macro avg       0.76      0.72      0.73       120\n",
      "weighted avg       0.78      0.79      0.78       120\n",
      "\n"
     ]
    }
   ],
   "source": [
    "from sklearn.metrics import confusion_matrix\n",
    "yPre = fit.predict(xTest)\n",
    "fit = clf.score(xTest, yTest)\n",
    "cm = confusion_matrix(yTest, yPre)\n",
    "from sklearn.metrics import classification_report\n",
    "print (classification_report(yTest,yPre))"
   ]
  },
  {
   "cell_type": "code",
   "execution_count": 72,
   "metadata": {},
   "outputs": [],
   "source": [
    "predicted = clf.predict(xTest)\n",
    "score = clf.score(xTest, yTest)"
   ]
  },
  {
   "cell_type": "code",
   "execution_count": 73,
   "metadata": {},
   "outputs": [
    {
     "data": {
      "text/plain": [
       "array([1, 0, 1, 0, 0, 0, 0, 0, 0, 0, 1, 1, 1, 0, 0, 0, 0, 1, 0, 0, 0, 0,\n",
       "       0, 1, 0, 0, 0, 0, 0, 0, 0, 0, 0, 0, 0, 0, 0, 0, 0, 0, 1, 0, 0, 1,\n",
       "       0, 0, 0, 0, 1, 1, 0, 0, 0, 1, 0, 0, 0, 0, 0, 0, 0, 0, 0, 0, 1, 1,\n",
       "       1, 0, 0, 1, 0, 0, 0, 1, 0, 0, 0, 1, 0, 1, 0, 0, 0, 0, 0, 0, 0, 0,\n",
       "       0, 0, 0, 1, 0, 0, 0, 0, 0, 1, 0, 0, 1, 0, 0, 0, 0, 0, 0, 0, 0, 0,\n",
       "       0, 0, 1, 1, 0, 1, 1, 0, 1, 0], dtype=int64)"
      ]
     },
     "execution_count": 73,
     "metadata": {},
     "output_type": "execute_result"
    }
   ],
   "source": [
    "predicted"
   ]
  },
  {
   "cell_type": "code",
   "execution_count": 74,
   "metadata": {},
   "outputs": [
    {
     "data": {
      "text/plain": [
       "0.7916666666666666"
      ]
     },
     "execution_count": 74,
     "metadata": {},
     "output_type": "execute_result"
    }
   ],
   "source": [
    "score"
   ]
  },
  {
   "cell_type": "markdown",
   "metadata": {},
   "source": [
    "50/50"
   ]
  },
  {
   "cell_type": "code",
   "execution_count": 75,
   "metadata": {},
   "outputs": [],
   "source": [
    "xTrain, xTest, yTrain, yTest = train_test_split(heartFilters, target, test_size = 0.5, random_state=1)"
   ]
  },
  {
   "cell_type": "code",
   "execution_count": 76,
   "metadata": {},
   "outputs": [
    {
     "name": "stdout",
     "output_type": "stream",
     "text": [
      "kval = 1 , score = 0.7066666666666667 | (bestVal =0.7066666666666667 k=1 p=1 \n",
      " END)\n",
      "kval = 2 , score = 0.7133333333333334 | (bestVal =0.72 k=2 p=1 \n",
      " END)\n",
      "kval = 3 , score = 0.7466666666666667 | (bestVal =0.7533333333333333 k=3 p=1 \n",
      " END)\n",
      "kval = 4 , score = 0.7133333333333334 | (bestVal =0.7533333333333333 k=3 p=1 \n",
      " END)\n",
      "kval = 5 , score = 0.7 | (bestVal =0.7533333333333333 k=3 p=1 \n",
      " END)\n",
      "kval = 6 , score = 0.7333333333333333 | (bestVal =0.7533333333333333 k=3 p=1 \n",
      " END)\n",
      "kval = 7 , score = 0.7333333333333333 | (bestVal =0.7533333333333333 k=3 p=1 \n",
      " END)\n",
      "kval = 8 , score = 0.7333333333333333 | (bestVal =0.7533333333333333 k=3 p=1 \n",
      " END)\n",
      "kval = 9 , score = 0.7333333333333333 | (bestVal =0.7533333333333333 k=3 p=1 \n",
      " END)\n",
      "kval = 10 , score = 0.74 | (bestVal =0.7533333333333333 k=3 p=1 \n",
      " END)\n",
      "kval = 11 , score = 0.74 | (bestVal =0.7533333333333333 k=3 p=1 \n",
      " END)\n",
      "kval = 12 , score = 0.7333333333333333 | (bestVal =0.7533333333333333 k=3 p=1 \n",
      " END)\n",
      "kval = 13 , score = 0.7333333333333333 | (bestVal =0.7533333333333333 k=3 p=1 \n",
      " END)\n",
      "kval = 14 , score = 0.7266666666666667 | (bestVal =0.7533333333333333 k=3 p=1 \n",
      " END)\n",
      "kval = 15 , score = 0.74 | (bestVal =0.7533333333333333 k=3 p=1 \n",
      " END)\n",
      "kval = 16 , score = 0.74 | (bestVal =0.7533333333333333 k=3 p=1 \n",
      " END)\n",
      "kval = 17 , score = 0.7333333333333333 | (bestVal =0.7533333333333333 k=3 p=1 \n",
      " END)\n",
      "kval = 18 , score = 0.7266666666666667 | (bestVal =0.7533333333333333 k=3 p=1 \n",
      " END)\n",
      "kval = 19 , score = 0.7066666666666667 | (bestVal =0.7533333333333333 k=3 p=1 \n",
      " END)\n",
      "kval = 20 , score = 0.72 | (bestVal =0.7533333333333333 k=3 p=1 \n",
      " END)\n",
      "kval = 21 , score = 0.72 | (bestVal =0.7533333333333333 k=3 p=1 \n",
      " END)\n",
      "kval = 22 , score = 0.72 | (bestVal =0.7533333333333333 k=3 p=1 \n",
      " END)\n",
      "kval = 23 , score = 0.7266666666666667 | (bestVal =0.7533333333333333 k=3 p=1 \n",
      " END)\n",
      "kval = 24 , score = 0.72 | (bestVal =0.7533333333333333 k=3 p=1 \n",
      " END)\n",
      "kval = 25 , score = 0.72 | (bestVal =0.7533333333333333 k=3 p=1 \n",
      " END)\n",
      "kval = 26 , score = 0.72 | (bestVal =0.7533333333333333 k=3 p=1 \n",
      " END)\n",
      "kval = 27 , score = 0.72 | (bestVal =0.7533333333333333 k=3 p=1 \n",
      " END)\n",
      "kval = 28 , score = 0.72 | (bestVal =0.7533333333333333 k=3 p=1 \n",
      " END)\n",
      "kval = 29 , score = 0.72 | (bestVal =0.7533333333333333 k=3 p=1 \n",
      " END)\n",
      "kval = 30 , score = 0.72 | (bestVal =0.7533333333333333 k=3 p=1 \n",
      " END)\n",
      "kval = 31 , score = 0.72 | (bestVal =0.7533333333333333 k=3 p=1 \n",
      " END)\n",
      "kval = 32 , score = 0.72 | (bestVal =0.7533333333333333 k=3 p=1 \n",
      " END)\n",
      "kval = 33 , score = 0.72 | (bestVal =0.7533333333333333 k=3 p=1 \n",
      " END)\n",
      "kval = 34 , score = 0.72 | (bestVal =0.7533333333333333 k=3 p=1 \n",
      " END)\n",
      "kval = 35 , score = 0.72 | (bestVal =0.7533333333333333 k=3 p=1 \n",
      " END)\n",
      "kval = 36 , score = 0.72 | (bestVal =0.7533333333333333 k=3 p=1 \n",
      " END)\n",
      "kval = 37 , score = 0.72 | (bestVal =0.7533333333333333 k=3 p=1 \n",
      " END)\n",
      "kval = 38 , score = 0.7133333333333334 | (bestVal =0.7533333333333333 k=3 p=1 \n",
      " END)\n",
      "kval = 39 , score = 0.7133333333333334 | (bestVal =0.7533333333333333 k=3 p=1 \n",
      " END)\n",
      "kval = 40 , score = 0.6466666666666666 | (bestVal =0.7533333333333333 k=3 p=1 \n",
      " END)\n",
      "kval = 41 , score = 0.6466666666666666 | (bestVal =0.7533333333333333 k=3 p=1 \n",
      " END)\n",
      "kval = 42 , score = 0.6533333333333333 | (bestVal =0.7533333333333333 k=3 p=1 \n",
      " END)\n",
      "kval = 43 , score = 0.6533333333333333 | (bestVal =0.7533333333333333 k=3 p=1 \n",
      " END)\n",
      "kval = 44 , score = 0.6533333333333333 | (bestVal =0.7533333333333333 k=3 p=1 \n",
      " END)\n",
      "kval = 45 , score = 0.6533333333333333 | (bestVal =0.7533333333333333 k=3 p=1 \n",
      " END)\n",
      "kval = 46 , score = 0.6533333333333333 | (bestVal =0.7533333333333333 k=3 p=1 \n",
      " END)\n",
      "kval = 47 , score = 0.6533333333333333 | (bestVal =0.7533333333333333 k=3 p=1 \n",
      " END)\n",
      "kval = 48 , score = 0.6533333333333333 | (bestVal =0.7533333333333333 k=3 p=1 \n",
      " END)\n",
      "kval = 49 , score = 0.6533333333333333 | (bestVal =0.7533333333333333 k=3 p=1 \n",
      " END)\n",
      "kval = 50 , score = 0.6533333333333333 | (bestVal =0.7533333333333333 k=3 p=1 \n",
      " END)\n",
      "kval = 51 , score = 0.6533333333333333 | (bestVal =0.7533333333333333 k=3 p=1 \n",
      " END)\n",
      "kval = 52 , score = 0.6533333333333333 | (bestVal =0.7533333333333333 k=3 p=1 \n",
      " END)\n",
      "kval = 53 , score = 0.6533333333333333 | (bestVal =0.7533333333333333 k=3 p=1 \n",
      " END)\n",
      "kval = 54 , score = 0.6533333333333333 | (bestVal =0.7533333333333333 k=3 p=1 \n",
      " END)\n",
      "kval = 55 , score = 0.6533333333333333 | (bestVal =0.7533333333333333 k=3 p=1 \n",
      " END)\n",
      "kval = 56 , score = 0.6533333333333333 | (bestVal =0.7533333333333333 k=3 p=1 \n",
      " END)\n",
      "kval = 57 , score = 0.6533333333333333 | (bestVal =0.7533333333333333 k=3 p=1 \n",
      " END)\n",
      "kval = 58 , score = 0.6533333333333333 | (bestVal =0.7533333333333333 k=3 p=1 \n",
      " END)\n",
      "kval = 59 , score = 0.6533333333333333 | (bestVal =0.7533333333333333 k=3 p=1 \n",
      " END)\n",
      "kval = 60 , score = 0.6533333333333333 | (bestVal =0.7533333333333333 k=3 p=1 \n",
      " END)\n",
      "kval = 61 , score = 0.6533333333333333 | (bestVal =0.7533333333333333 k=3 p=1 \n",
      " END)\n",
      "kval = 62 , score = 0.6533333333333333 | (bestVal =0.7533333333333333 k=3 p=1 \n",
      " END)\n",
      "kval = 63 , score = 0.6533333333333333 | (bestVal =0.7533333333333333 k=3 p=1 \n",
      " END)\n",
      "kval = 64 , score = 0.6533333333333333 | (bestVal =0.7533333333333333 k=3 p=1 \n",
      " END)\n",
      "kval = 65 , score = 0.6533333333333333 | (bestVal =0.7533333333333333 k=3 p=1 \n",
      " END)\n",
      "kval = 66 , score = 0.6533333333333333 | (bestVal =0.7533333333333333 k=3 p=1 \n",
      " END)\n",
      "kval = 67 , score = 0.6533333333333333 | (bestVal =0.7533333333333333 k=3 p=1 \n",
      " END)\n",
      "kval = 68 , score = 0.6533333333333333 | (bestVal =0.7533333333333333 k=3 p=1 \n",
      " END)\n",
      "kval = 69 , score = 0.6533333333333333 | (bestVal =0.7533333333333333 k=3 p=1 \n",
      " END)\n",
      "kval = 70 , score = 0.6533333333333333 | (bestVal =0.7533333333333333 k=3 p=1 \n",
      " END)\n",
      "kval = 71 , score = 0.6533333333333333 | (bestVal =0.7533333333333333 k=3 p=1 \n",
      " END)\n",
      "kval = 72 , score = 0.6533333333333333 | (bestVal =0.7533333333333333 k=3 p=1 \n",
      " END)\n",
      "kval = 73 , score = 0.6533333333333333 | (bestVal =0.7533333333333333 k=3 p=1 \n",
      " END)\n",
      "kval = 74 , score = 0.6533333333333333 | (bestVal =0.7533333333333333 k=3 p=1 \n",
      " END)\n",
      "kval = 75 , score = 0.6533333333333333 | (bestVal =0.7533333333333333 k=3 p=1 \n",
      " END)\n",
      "kval = 76 , score = 0.6533333333333333 | (bestVal =0.7533333333333333 k=3 p=1 \n",
      " END)\n",
      "kval = 77 , score = 0.6533333333333333 | (bestVal =0.7533333333333333 k=3 p=1 \n",
      " END)\n",
      "kval = 78 , score = 0.6533333333333333 | (bestVal =0.7533333333333333 k=3 p=1 \n",
      " END)\n",
      "kval = 79 , score = 0.6533333333333333 | (bestVal =0.7533333333333333 k=3 p=1 \n",
      " END)\n",
      "kval = 80 , score = 0.6533333333333333 | (bestVal =0.7533333333333333 k=3 p=1 \n",
      " END)\n",
      "kval = 81 , score = 0.6533333333333333 | (bestVal =0.7533333333333333 k=3 p=1 \n",
      " END)\n",
      "kval = 82 , score = 0.6533333333333333 | (bestVal =0.7533333333333333 k=3 p=1 \n",
      " END)\n",
      "kval = 83 , score = 0.6533333333333333 | (bestVal =0.7533333333333333 k=3 p=1 \n",
      " END)\n",
      "kval = 84 , score = 0.6533333333333333 | (bestVal =0.7533333333333333 k=3 p=1 \n",
      " END)\n",
      "kval = 85 , score = 0.6533333333333333 | (bestVal =0.7533333333333333 k=3 p=1 \n",
      " END)\n",
      "kval = 86 , score = 0.6533333333333333 | (bestVal =0.7533333333333333 k=3 p=1 \n",
      " END)\n",
      "kval = 87 , score = 0.6533333333333333 | (bestVal =0.7533333333333333 k=3 p=1 \n",
      " END)\n",
      "kval = 88 , score = 0.6533333333333333 | (bestVal =0.7533333333333333 k=3 p=1 \n",
      " END)\n",
      "kval = 89 , score = 0.6533333333333333 | (bestVal =0.7533333333333333 k=3 p=1 \n",
      " END)\n",
      "kval = 90 , score = 0.6533333333333333 | (bestVal =0.7533333333333333 k=3 p=1 \n",
      " END)\n",
      "kval = 91 , score = 0.6533333333333333 | (bestVal =0.7533333333333333 k=3 p=1 \n",
      " END)\n",
      "kval = 92 , score = 0.6533333333333333 | (bestVal =0.7533333333333333 k=3 p=1 \n",
      " END)\n",
      "kval = 93 , score = 0.6533333333333333 | (bestVal =0.7533333333333333 k=3 p=1 \n",
      " END)\n",
      "kval = 94 , score = 0.6533333333333333 | (bestVal =0.7533333333333333 k=3 p=1 \n",
      " END)\n",
      "kval = 95 , score = 0.6533333333333333 | (bestVal =0.7533333333333333 k=3 p=1 \n",
      " END)\n",
      "kval = 96 , score = 0.6533333333333333 | (bestVal =0.7533333333333333 k=3 p=1 \n",
      " END)\n",
      "kval = 97 , score = 0.6533333333333333 | (bestVal =0.7533333333333333 k=3 p=1 \n",
      " END)\n",
      "kval = 98 , score = 0.6533333333333333 | (bestVal =0.7533333333333333 k=3 p=1 \n",
      " END)\n",
      "kval = 99 , score = 0.6533333333333333 | (bestVal =0.7533333333333333 k=3 p=1 \n",
      " END)\n"
     ]
    }
   ],
   "source": [
    "#find the best k and p value for the model\n",
    "from sklearn.neighbors import KNeighborsClassifier\n",
    "bestVal = 0\n",
    "bestK = -1\n",
    "bestP = -1\n",
    "for k in range(1,100):\n",
    "    for p in range(1,10):\n",
    "        clf = KNeighborsClassifier(k, p=p)\n",
    "        clf.fit(xTrain, yTrain)\n",
    "        predicted = clf.predict(xTest)\n",
    "        score = clf.score(xTest, yTest)\n",
    "        if score>bestVal:\n",
    "            bestVal = score\n",
    "            bestK = k\n",
    "            bestP = p \n",
    "        #if score is much worse than best score stop running \n",
    "    print('kval = {} , score = {} | (bestVal ={} k={} p={} {})'.format(k,score,bestVal, bestK, bestP, \"\\n END\"))"
   ]
  },
  {
   "cell_type": "code",
   "execution_count": 77,
   "metadata": {},
   "outputs": [],
   "source": [
    "clf = KNeighborsClassifier(bestK, p=bestP)\n",
    "fit = clf.fit(xTrain, yTrain)"
   ]
  },
  {
   "cell_type": "code",
   "execution_count": 78,
   "metadata": {},
   "outputs": [
    {
     "name": "stdout",
     "output_type": "stream",
     "text": [
      "              precision    recall  f1-score   support\n",
      "\n",
      "           0       0.79      0.86      0.82        98\n",
      "           1       0.67      0.56      0.61        52\n",
      "\n",
      "    accuracy                           0.75       150\n",
      "   macro avg       0.73      0.71      0.72       150\n",
      "weighted avg       0.75      0.75      0.75       150\n",
      "\n"
     ]
    }
   ],
   "source": [
    "from sklearn.metrics import confusion_matrix\n",
    "yPre = fit.predict(xTest)\n",
    "fit = clf.score(xTest, yTest)\n",
    "cm = confusion_matrix(yTest, yPre)\n",
    "from sklearn.metrics import classification_report\n",
    "print (classification_report(yTest,yPre))"
   ]
  },
  {
   "cell_type": "code",
   "execution_count": 79,
   "metadata": {},
   "outputs": [],
   "source": [
    "predicted = clf.predict(xTest)\n",
    "score = clf.score(xTest, yTest)"
   ]
  },
  {
   "cell_type": "code",
   "execution_count": 80,
   "metadata": {},
   "outputs": [
    {
     "data": {
      "text/plain": [
       "array([1, 0, 1, 0, 0, 0, 0, 0, 0, 0, 1, 1, 1, 1, 0, 0, 0, 1, 0, 0, 0, 0,\n",
       "       0, 1, 0, 1, 0, 0, 0, 0, 0, 0, 0, 0, 0, 0, 0, 0, 0, 0, 1, 0, 0, 1,\n",
       "       0, 0, 0, 0, 1, 0, 0, 0, 0, 1, 0, 0, 0, 1, 0, 0, 0, 0, 0, 0, 1, 1,\n",
       "       1, 0, 0, 1, 0, 0, 0, 1, 0, 0, 0, 1, 0, 1, 0, 0, 0, 0, 0, 0, 0, 0,\n",
       "       0, 0, 0, 1, 0, 0, 0, 0, 0, 1, 0, 0, 1, 0, 0, 0, 0, 0, 0, 0, 0, 0,\n",
       "       0, 0, 1, 1, 0, 1, 1, 0, 1, 0, 0, 1, 0, 0, 0, 0, 0, 1, 1, 1, 0, 0,\n",
       "       1, 1, 0, 1, 0, 1, 1, 0, 1, 0, 1, 1, 1, 0, 0, 0, 1, 0], dtype=int64)"
      ]
     },
     "execution_count": 80,
     "metadata": {},
     "output_type": "execute_result"
    }
   ],
   "source": [
    "predicted"
   ]
  },
  {
   "cell_type": "code",
   "execution_count": 81,
   "metadata": {},
   "outputs": [
    {
     "data": {
      "text/plain": [
       "0.7533333333333333"
      ]
     },
     "execution_count": 81,
     "metadata": {},
     "output_type": "execute_result"
    }
   ],
   "source": [
    "score"
   ]
  },
  {
   "cell_type": "markdown",
   "metadata": {},
   "source": [
    "# Decision tree\n"
   ]
  },
  {
   "cell_type": "markdown",
   "metadata": {},
   "source": [
    "80/20"
   ]
  },
  {
   "cell_type": "code",
   "execution_count": 82,
   "metadata": {},
   "outputs": [],
   "source": [
    "from sklearn.tree import DecisionTreeClassifier\n",
    "treeCLF = DecisionTreeClassifier()"
   ]
  },
  {
   "cell_type": "code",
   "execution_count": 83,
   "metadata": {},
   "outputs": [],
   "source": [
    "xTrain, xTest, yTrain, yTest = train_test_split(heartFilters, target, test_size = 0.2, random_state=1)"
   ]
  },
  {
   "cell_type": "code",
   "execution_count": 84,
   "metadata": {},
   "outputs": [],
   "source": [
    "fit = treeCLF.fit(xTrain, yTrain)"
   ]
  },
  {
   "cell_type": "code",
   "execution_count": 85,
   "metadata": {},
   "outputs": [],
   "source": [
    "yPre = fit.predict(xTest)"
   ]
  },
  {
   "cell_type": "code",
   "execution_count": 86,
   "metadata": {},
   "outputs": [],
   "source": [
    "predicted = fit.predict(xTest)\n",
    "score = fit.score(xTest, yTest)"
   ]
  },
  {
   "cell_type": "code",
   "execution_count": 87,
   "metadata": {},
   "outputs": [
    {
     "data": {
      "text/plain": [
       "array([0, 1, 1, 0, 0, 0, 0, 0, 0, 0, 1, 1, 1, 0, 0, 0, 0, 1, 0, 0, 0, 1,\n",
       "       0, 1, 0, 1, 1, 0, 1, 1, 0, 0, 0, 0, 1, 1, 0, 0, 0, 0, 1, 0, 0, 1,\n",
       "       0, 0, 0, 0, 1, 1, 1, 0, 0, 1, 1, 0, 1, 1, 1, 0], dtype=int64)"
      ]
     },
     "execution_count": 87,
     "metadata": {},
     "output_type": "execute_result"
    }
   ],
   "source": [
    "predicted"
   ]
  },
  {
   "cell_type": "code",
   "execution_count": 88,
   "metadata": {},
   "outputs": [
    {
     "data": {
      "text/plain": [
       "0.7333333333333333"
      ]
     },
     "execution_count": 88,
     "metadata": {},
     "output_type": "execute_result"
    }
   ],
   "source": [
    "score"
   ]
  },
  {
   "cell_type": "code",
   "execution_count": 89,
   "metadata": {},
   "outputs": [
    {
     "name": "stdout",
     "output_type": "stream",
     "text": [
      "              precision    recall  f1-score   support\n",
      "\n",
      "           0       0.92      0.72      0.80        46\n",
      "           1       0.46      0.79      0.58        14\n",
      "\n",
      "    accuracy                           0.73        60\n",
      "   macro avg       0.69      0.75      0.69        60\n",
      "weighted avg       0.81      0.73      0.75        60\n",
      "\n"
     ]
    }
   ],
   "source": [
    "print (classification_report(yTest,yPre))"
   ]
  },
  {
   "cell_type": "markdown",
   "metadata": {},
   "source": [
    "60/40"
   ]
  },
  {
   "cell_type": "code",
   "execution_count": 90,
   "metadata": {},
   "outputs": [],
   "source": [
    "xTrain, xTest, yTrain, yTest = train_test_split(heartFilters, target, test_size = 0.4, random_state=1)"
   ]
  },
  {
   "cell_type": "code",
   "execution_count": 91,
   "metadata": {},
   "outputs": [],
   "source": [
    "fit = treeCLF.fit(xTrain, yTrain)"
   ]
  },
  {
   "cell_type": "code",
   "execution_count": 92,
   "metadata": {},
   "outputs": [],
   "source": [
    "yPre = fit.predict(xTest)"
   ]
  },
  {
   "cell_type": "code",
   "execution_count": 93,
   "metadata": {},
   "outputs": [],
   "source": [
    "predicted = fit.predict(xTest)\n",
    "score = fit.score(xTest, yTest)"
   ]
  },
  {
   "cell_type": "code",
   "execution_count": 94,
   "metadata": {},
   "outputs": [
    {
     "data": {
      "text/plain": [
       "array([1, 1, 1, 0, 0, 0, 0, 0, 0, 0, 1, 1, 1, 0, 0, 0, 0, 1, 0, 0, 0, 0,\n",
       "       0, 1, 0, 1, 1, 0, 0, 1, 0, 0, 0, 0, 1, 1, 0, 0, 0, 0, 1, 0, 0, 1,\n",
       "       0, 0, 0, 0, 0, 0, 1, 0, 0, 1, 1, 0, 0, 1, 0, 0, 0, 0, 0, 0, 0, 1,\n",
       "       1, 0, 0, 1, 0, 0, 0, 0, 0, 1, 0, 0, 0, 1, 0, 0, 1, 0, 0, 0, 0, 0,\n",
       "       0, 0, 0, 0, 0, 0, 0, 0, 0, 0, 0, 0, 0, 0, 0, 0, 0, 0, 0, 0, 0, 0,\n",
       "       0, 0, 0, 1, 0, 1, 1, 0, 1, 0], dtype=int64)"
      ]
     },
     "execution_count": 94,
     "metadata": {},
     "output_type": "execute_result"
    }
   ],
   "source": [
    "predicted"
   ]
  },
  {
   "cell_type": "code",
   "execution_count": 95,
   "metadata": {},
   "outputs": [
    {
     "data": {
      "text/plain": [
       "0.7416666666666667"
      ]
     },
     "execution_count": 95,
     "metadata": {},
     "output_type": "execute_result"
    }
   ],
   "source": [
    "score"
   ]
  },
  {
   "cell_type": "code",
   "execution_count": 96,
   "metadata": {},
   "outputs": [
    {
     "name": "stdout",
     "output_type": "stream",
     "text": [
      "              precision    recall  f1-score   support\n",
      "\n",
      "           0       0.79      0.86      0.82        84\n",
      "           1       0.59      0.47      0.52        36\n",
      "\n",
      "    accuracy                           0.74       120\n",
      "   macro avg       0.69      0.66      0.67       120\n",
      "weighted avg       0.73      0.74      0.73       120\n",
      "\n"
     ]
    }
   ],
   "source": [
    "print (classification_report(yTest,yPre))"
   ]
  },
  {
   "cell_type": "markdown",
   "metadata": {},
   "source": [
    "50/50"
   ]
  },
  {
   "cell_type": "code",
   "execution_count": 97,
   "metadata": {},
   "outputs": [],
   "source": [
    "xTrain, xTest, yTrain, yTest = train_test_split(heartFilters, target, test_size = 0.5, random_state=1)"
   ]
  },
  {
   "cell_type": "code",
   "execution_count": 98,
   "metadata": {},
   "outputs": [],
   "source": [
    "fit = treeCLF.fit(xTrain, yTrain)"
   ]
  },
  {
   "cell_type": "code",
   "execution_count": 99,
   "metadata": {},
   "outputs": [],
   "source": [
    "yPre = fit.predict(xTest)"
   ]
  },
  {
   "cell_type": "code",
   "execution_count": 100,
   "metadata": {},
   "outputs": [],
   "source": [
    "predicted = fit.predict(xTest)\n",
    "score = fit.score(xTest, yTest)"
   ]
  },
  {
   "cell_type": "code",
   "execution_count": 101,
   "metadata": {},
   "outputs": [
    {
     "data": {
      "text/plain": [
       "array([1, 0, 1, 0, 0, 0, 0, 0, 1, 0, 0, 1, 1, 0, 0, 0, 0, 0, 0, 0, 0, 0,\n",
       "       0, 1, 0, 1, 1, 0, 0, 0, 0, 0, 0, 0, 1, 0, 0, 0, 0, 0, 1, 0, 0, 1,\n",
       "       0, 0, 0, 0, 0, 0, 1, 0, 0, 1, 1, 0, 0, 1, 0, 0, 0, 0, 0, 0, 1, 1,\n",
       "       1, 0, 0, 1, 0, 0, 0, 0, 0, 1, 0, 0, 0, 1, 0, 0, 0, 0, 0, 0, 0, 0,\n",
       "       0, 1, 0, 1, 0, 0, 0, 0, 0, 1, 0, 0, 0, 0, 0, 1, 0, 0, 0, 0, 0, 0,\n",
       "       0, 0, 0, 1, 0, 1, 1, 0, 1, 0, 0, 0, 0, 0, 0, 0, 0, 1, 1, 1, 0, 0,\n",
       "       1, 1, 0, 1, 0, 1, 0, 0, 1, 0, 0, 1, 0, 0, 0, 0, 1, 0], dtype=int64)"
      ]
     },
     "execution_count": 101,
     "metadata": {},
     "output_type": "execute_result"
    }
   ],
   "source": [
    "predicted"
   ]
  },
  {
   "cell_type": "code",
   "execution_count": 102,
   "metadata": {},
   "outputs": [
    {
     "data": {
      "text/plain": [
       "0.74"
      ]
     },
     "execution_count": 102,
     "metadata": {},
     "output_type": "execute_result"
    }
   ],
   "source": [
    "score"
   ]
  },
  {
   "cell_type": "code",
   "execution_count": 103,
   "metadata": {},
   "outputs": [
    {
     "name": "stdout",
     "output_type": "stream",
     "text": [
      "              precision    recall  f1-score   support\n",
      "\n",
      "           0       0.77      0.87      0.81        98\n",
      "           1       0.67      0.50      0.57        52\n",
      "\n",
      "    accuracy                           0.74       150\n",
      "   macro avg       0.72      0.68      0.69       150\n",
      "weighted avg       0.73      0.74      0.73       150\n",
      "\n"
     ]
    }
   ],
   "source": [
    "print (classification_report(yTest,yPre))"
   ]
  },
  {
   "cell_type": "code",
   "execution_count": null,
   "metadata": {},
   "outputs": [],
   "source": [
    " "
   ]
  }
 ],
 "metadata": {
  "kernelspec": {
   "display_name": "Python 3",
   "language": "python",
   "name": "python3"
  },
  "language_info": {
   "codemirror_mode": {
    "name": "ipython",
    "version": 3
   },
   "file_extension": ".py",
   "mimetype": "text/x-python",
   "name": "python",
   "nbconvert_exporter": "python",
   "pygments_lexer": "ipython3",
   "version": "3.8.5"
  }
 },
 "nbformat": 4,
 "nbformat_minor": 4
}
